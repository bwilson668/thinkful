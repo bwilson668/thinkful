{
 "cells": [
  {
   "cell_type": "markdown",
   "metadata": {},
   "source": [
    "# Citi Bike Data\n",
    "##### Ben Wilson #####\n",
    "\n",
    "We are going to look at NYC bike sharing data to see if we can find any interesting behavior. This will also introduce a new way to download data with Python and sharpen my skills with a SQLite database\n",
    "\n",
    "First, let's define what we are looking for... an activity level. Our activity level is calculated by adding the number of rentals and number of returns during a given hour. We will be checking this activity by the minute.\n",
    "\n",
    "Now, let's grab the data."
   ]
  },
  {
   "cell_type": "code",
   "execution_count": 1,
   "metadata": {
    "collapsed": true
   },
   "outputs": [],
   "source": [
    "import requests\n",
    "\n",
    "r = requests.get('http://www.citibikenyc.com/stations/json')"
   ]
  },
  {
   "cell_type": "code",
   "execution_count": 2,
   "metadata": {
    "collapsed": false
   },
   "outputs": [
    {
     "data": {
      "text/plain": [
       "[u'executionTime', u'stationBeanList']"
      ]
     },
     "execution_count": 2,
     "metadata": {},
     "output_type": "execute_result"
    }
   ],
   "source": [
    "r.json().keys()"
   ]
  },
  {
   "cell_type": "code",
   "execution_count": 6,
   "metadata": {
    "collapsed": false
   },
   "outputs": [
    {
     "data": {
      "text/plain": [
       "[{u'altitude': u'',\n",
       "  u'availableBikes': 2,\n",
       "  u'availableDocks': 37,\n",
       "  u'city': u'',\n",
       "  u'id': 72,\n",
       "  u'landMark': u'',\n",
       "  u'lastCommunicationTime': u'2016-07-12 02:54:14 PM',\n",
       "  u'latitude': 40.76727216,\n",
       "  u'location': u'',\n",
       "  u'longitude': -73.99392888,\n",
       "  u'postalCode': u'',\n",
       "  u'stAddress1': u'W 52 St & 11 Ave',\n",
       "  u'stAddress2': u'',\n",
       "  u'stationName': u'W 52 St & 11 Ave',\n",
       "  u'statusKey': 1,\n",
       "  u'statusValue': u'In Service',\n",
       "  u'testStation': False,\n",
       "  u'totalDocks': 39},\n",
       " {u'altitude': u'',\n",
       "  u'availableBikes': 24,\n",
       "  u'availableDocks': 7,\n",
       "  u'city': u'',\n",
       "  u'id': 79,\n",
       "  u'landMark': u'',\n",
       "  u'lastCommunicationTime': u'2016-07-12 02:56:03 PM',\n",
       "  u'latitude': 40.71911552,\n",
       "  u'location': u'',\n",
       "  u'longitude': -74.00666661,\n",
       "  u'postalCode': u'',\n",
       "  u'stAddress1': u'Franklin St & W Broadway',\n",
       "  u'stAddress2': u'',\n",
       "  u'stationName': u'Franklin St & W Broadway',\n",
       "  u'statusKey': 1,\n",
       "  u'statusValue': u'In Service',\n",
       "  u'testStation': False,\n",
       "  u'totalDocks': 33}]"
      ]
     },
     "execution_count": 6,
     "metadata": {},
     "output_type": "execute_result"
    }
   ],
   "source": [
    "r.json()['stationBeanList'][0:2]"
   ]
  },
  {
   "cell_type": "code",
   "execution_count": 7,
   "metadata": {
    "collapsed": false
   },
   "outputs": [
    {
     "data": {
      "text/plain": [
       "509"
      ]
     },
     "execution_count": 7,
     "metadata": {},
     "output_type": "execute_result"
    }
   ],
   "source": [
    "# Station count\n",
    "len(r.json()['stationBeanList'])"
   ]
  },
  {
   "cell_type": "code",
   "execution_count": 8,
   "metadata": {
    "collapsed": false
   },
   "outputs": [
    {
     "data": {
      "text/plain": [
       "[u'availableDocks',\n",
       " u'totalDocks',\n",
       " u'city',\n",
       " u'altitude',\n",
       " u'stAddress2',\n",
       " u'longitude',\n",
       " u'lastCommunicationTime',\n",
       " u'postalCode',\n",
       " u'statusValue',\n",
       " u'testStation',\n",
       " u'stAddress1',\n",
       " u'stationName',\n",
       " u'landMark',\n",
       " u'latitude',\n",
       " u'statusKey',\n",
       " u'availableBikes',\n",
       " u'id',\n",
       " u'location']"
      ]
     },
     "execution_count": 8,
     "metadata": {},
     "output_type": "execute_result"
    }
   ],
   "source": [
    "# Get the unique column names from the JSON\n",
    "key_list = []\n",
    "for station in r.json()['stationBeanList']:\n",
    "    for k in station.keys():\n",
    "        if k not in key_list:\n",
    "            key_list.append(k)\n",
    "            \n",
    "key_list"
   ]
  },
  {
   "cell_type": "code",
   "execution_count": 9,
   "metadata": {
    "collapsed": false
   },
   "outputs": [
    {
     "data": {
      "text/html": [
       "<div>\n",
       "<table border=\"1\" class=\"dataframe\">\n",
       "  <thead>\n",
       "    <tr style=\"text-align: right;\">\n",
       "      <th></th>\n",
       "      <th>altitude</th>\n",
       "      <th>availableBikes</th>\n",
       "      <th>availableDocks</th>\n",
       "      <th>city</th>\n",
       "      <th>id</th>\n",
       "      <th>landMark</th>\n",
       "      <th>lastCommunicationTime</th>\n",
       "      <th>latitude</th>\n",
       "      <th>location</th>\n",
       "      <th>longitude</th>\n",
       "      <th>postalCode</th>\n",
       "      <th>stAddress1</th>\n",
       "      <th>stAddress2</th>\n",
       "      <th>stationName</th>\n",
       "      <th>statusKey</th>\n",
       "      <th>statusValue</th>\n",
       "      <th>testStation</th>\n",
       "      <th>totalDocks</th>\n",
       "    </tr>\n",
       "  </thead>\n",
       "  <tbody>\n",
       "    <tr>\n",
       "      <th>0</th>\n",
       "      <td></td>\n",
       "      <td>2</td>\n",
       "      <td>37</td>\n",
       "      <td></td>\n",
       "      <td>72</td>\n",
       "      <td></td>\n",
       "      <td>2016-07-12 02:54:14 PM</td>\n",
       "      <td>40.767272</td>\n",
       "      <td></td>\n",
       "      <td>-73.993929</td>\n",
       "      <td></td>\n",
       "      <td>W 52 St &amp; 11 Ave</td>\n",
       "      <td></td>\n",
       "      <td>W 52 St &amp; 11 Ave</td>\n",
       "      <td>1</td>\n",
       "      <td>In Service</td>\n",
       "      <td>False</td>\n",
       "      <td>39</td>\n",
       "    </tr>\n",
       "    <tr>\n",
       "      <th>1</th>\n",
       "      <td></td>\n",
       "      <td>24</td>\n",
       "      <td>7</td>\n",
       "      <td></td>\n",
       "      <td>79</td>\n",
       "      <td></td>\n",
       "      <td>2016-07-12 02:56:03 PM</td>\n",
       "      <td>40.719116</td>\n",
       "      <td></td>\n",
       "      <td>-74.006667</td>\n",
       "      <td></td>\n",
       "      <td>Franklin St &amp; W Broadway</td>\n",
       "      <td></td>\n",
       "      <td>Franklin St &amp; W Broadway</td>\n",
       "      <td>1</td>\n",
       "      <td>In Service</td>\n",
       "      <td>False</td>\n",
       "      <td>33</td>\n",
       "    </tr>\n",
       "    <tr>\n",
       "      <th>2</th>\n",
       "      <td></td>\n",
       "      <td>12</td>\n",
       "      <td>14</td>\n",
       "      <td></td>\n",
       "      <td>82</td>\n",
       "      <td></td>\n",
       "      <td>2016-07-12 02:55:37 PM</td>\n",
       "      <td>40.711174</td>\n",
       "      <td></td>\n",
       "      <td>-74.000165</td>\n",
       "      <td></td>\n",
       "      <td>St James Pl &amp; Pearl St</td>\n",
       "      <td></td>\n",
       "      <td>St James Pl &amp; Pearl St</td>\n",
       "      <td>1</td>\n",
       "      <td>In Service</td>\n",
       "      <td>False</td>\n",
       "      <td>27</td>\n",
       "    </tr>\n",
       "    <tr>\n",
       "      <th>3</th>\n",
       "      <td></td>\n",
       "      <td>31</td>\n",
       "      <td>30</td>\n",
       "      <td></td>\n",
       "      <td>83</td>\n",
       "      <td></td>\n",
       "      <td>2016-07-12 02:56:09 PM</td>\n",
       "      <td>40.683826</td>\n",
       "      <td></td>\n",
       "      <td>-73.976323</td>\n",
       "      <td></td>\n",
       "      <td>Atlantic Ave &amp; Fort Greene Pl</td>\n",
       "      <td></td>\n",
       "      <td>Atlantic Ave &amp; Fort Greene Pl</td>\n",
       "      <td>1</td>\n",
       "      <td>In Service</td>\n",
       "      <td>False</td>\n",
       "      <td>62</td>\n",
       "    </tr>\n",
       "    <tr>\n",
       "      <th>4</th>\n",
       "      <td></td>\n",
       "      <td>10</td>\n",
       "      <td>29</td>\n",
       "      <td></td>\n",
       "      <td>116</td>\n",
       "      <td></td>\n",
       "      <td>2016-07-12 02:55:50 PM</td>\n",
       "      <td>40.741776</td>\n",
       "      <td></td>\n",
       "      <td>-74.001497</td>\n",
       "      <td></td>\n",
       "      <td>W 17 St &amp; 8 Ave</td>\n",
       "      <td></td>\n",
       "      <td>W 17 St &amp; 8 Ave</td>\n",
       "      <td>1</td>\n",
       "      <td>In Service</td>\n",
       "      <td>False</td>\n",
       "      <td>39</td>\n",
       "    </tr>\n",
       "  </tbody>\n",
       "</table>\n",
       "</div>"
      ],
      "text/plain": [
       "  altitude  availableBikes  availableDocks city   id landMark  \\\n",
       "0                        2              37        72            \n",
       "1                       24               7        79            \n",
       "2                       12              14        82            \n",
       "3                       31              30        83            \n",
       "4                       10              29       116            \n",
       "\n",
       "    lastCommunicationTime   latitude location  longitude postalCode  \\\n",
       "0  2016-07-12 02:54:14 PM  40.767272          -73.993929              \n",
       "1  2016-07-12 02:56:03 PM  40.719116          -74.006667              \n",
       "2  2016-07-12 02:55:37 PM  40.711174          -74.000165              \n",
       "3  2016-07-12 02:56:09 PM  40.683826          -73.976323              \n",
       "4  2016-07-12 02:55:50 PM  40.741776          -74.001497              \n",
       "\n",
       "                      stAddress1 stAddress2                    stationName  \\\n",
       "0               W 52 St & 11 Ave                          W 52 St & 11 Ave   \n",
       "1       Franklin St & W Broadway                  Franklin St & W Broadway   \n",
       "2         St James Pl & Pearl St                    St James Pl & Pearl St   \n",
       "3  Atlantic Ave & Fort Greene Pl             Atlantic Ave & Fort Greene Pl   \n",
       "4                W 17 St & 8 Ave                           W 17 St & 8 Ave   \n",
       "\n",
       "   statusKey statusValue testStation  totalDocks  \n",
       "0          1  In Service       False          39  \n",
       "1          1  In Service       False          33  \n",
       "2          1  In Service       False          27  \n",
       "3          1  In Service       False          62  \n",
       "4          1  In Service       False          39  "
      ]
     },
     "execution_count": 9,
     "metadata": {},
     "output_type": "execute_result"
    }
   ],
   "source": [
    "# We are now ready to pull it into a Pandas DataFrame\n",
    "\n",
    "from pandas.io.json import json_normalize\n",
    "\n",
    "df = json_normalize(r.json()['stationBeanList'])\n",
    "df.head()"
   ]
  },
  {
   "cell_type": "code",
   "execution_count": 10,
   "metadata": {
    "collapsed": false
   },
   "outputs": [
    {
     "data": {
      "image/png": "[encoded data removed]",
      "text/plain": [
       "<matplotlib.figure.Figure at 0x9909dd8>"
      ]
     },
     "metadata": {},
     "output_type": "display_data"
    }
   ],
   "source": [
    "# lets make a couple graphs to look at  the range of values for each attribute\n",
    "\n",
    "%matplotlib inline\n",
    "import matplotlib.pyplot as plt\n",
    "import pandas as pd\n",
    "\n",
    "# number of bikes available\n",
    "df['availableBikes'].hist()\n",
    "plt.show()"
   ]
  },
  {
   "cell_type": "code",
   "execution_count": 11,
   "metadata": {
    "collapsed": false
   },
   "outputs": [
    {
     "data": {
      "image/png": "[encoded data removed]",
      "text/plain": [
       "<matplotlib.figure.Figure at 0xabfb320>"
      ]
     },
     "metadata": {},
     "output_type": "display_data"
    }
   ],
   "source": [
    "# number of docks at stations\n",
    "df['totalDocks'].hist()\n",
    "plt.show()"
   ]
  },
  {
   "cell_type": "code",
   "execution_count": 12,
   "metadata": {
    "collapsed": false
   },
   "outputs": [
    {
     "data": {
      "text/plain": [
       "503"
      ]
     },
     "execution_count": 12,
     "metadata": {},
     "output_type": "execute_result"
    }
   ],
   "source": [
    "# stations in service\n",
    "inService = df[df['statusValue'] == 'In Service']\n",
    "len(inService)"
   ]
  },
  {
   "cell_type": "code",
   "execution_count": 13,
   "metadata": {
    "collapsed": false
   },
   "outputs": [
    {
     "data": {
      "text/plain": [
       "6"
      ]
     },
     "execution_count": 13,
     "metadata": {},
     "output_type": "execute_result"
    }
   ],
   "source": [
    "# stations not in service\n",
    "notInService = df[df['statusValue'] == 'Not In Service']\n",
    "len(notInService)"
   ]
  },
  {
   "cell_type": "code",
   "execution_count": 14,
   "metadata": {
    "collapsed": false
   },
   "outputs": [
    {
     "data": {
      "text/plain": [
       "0"
      ]
     },
     "execution_count": 14,
     "metadata": {},
     "output_type": "execute_result"
    }
   ],
   "source": [
    "# test stations\n",
    "testStations = len(filter(lambda x: x == True, df['testStation']))\n",
    "testStations"
   ]
  },
  {
   "cell_type": "code",
   "execution_count": 15,
   "metadata": {
    "collapsed": false
   },
   "outputs": [
    {
     "name": "stdout",
     "output_type": "stream",
     "text": [
      "11.7387033399\n",
      "11.8767395626\n",
      "8.0\n",
      "8.0\n"
     ]
    }
   ],
   "source": [
    "print df['availableBikes'].mean()\n",
    "print inService['availableBikes'].mean()\n",
    "\n",
    "print df['availableBikes'].median()\n",
    "print inService['availableBikes'].median()"
   ]
  },
  {
   "cell_type": "markdown",
   "metadata": {},
   "source": [
    "__On to lesson 4 of the Citi Bike analysis challenge__\n",
    "\n",
    "We are going to create a database for the bike data and write a script to populate that database with the latest bike data for an hour."
   ]
  },
  {
   "cell_type": "code",
   "execution_count": 16,
   "metadata": {
    "collapsed": false
   },
   "outputs": [],
   "source": [
    "import sqlite3 as lite\n",
    "\n",
    "con = lite.connect('citi_bike.db')\n",
    "cur = con.cursor()\n",
    "\n",
    "with con:\n",
    "    cur.execute('CREATE TABLE citibike_reference (' \\\n",
    "                'id INT PRIMARY KEY,'\n",
    "                'totalDocks INT,' \\\n",
    "                'city TEXT,' \\\n",
    "                'altitude INT,' \\\n",
    "                'stAddress2 TEXT,' \\\n",
    "                'longitude NUMERIC,' \\\n",
    "                'postalCode TEXT,' \\\n",
    "                'testStation TEXT,' \\\n",
    "                'stAddress1 TEXT,' \\\n",
    "                'stationName TEXT,' \\\n",
    "                'landMark TEXT,' \\\n",
    "                'latitude NUMERIC, location TEXT' \\\n",
    "            ')')"
   ]
  },
  {
   "cell_type": "code",
   "execution_count": 17,
   "metadata": {
    "collapsed": false
   },
   "outputs": [],
   "source": [
    "# now that the reference table is created\n",
    "# we are ready to populate it!\n",
    "\n",
    "sql = 'INSERT INTO citibike_reference ' \\\n",
    "      '(id, totalDocks, city, altitude, stAddress2, longitude, postalCode, testStation, stAddress1,' \\\n",
    "      'stationName, landMark, latitude, location) ' \\\n",
    "      ' VALUES (?,?,?,?,?,?,?,?,?,?,?,?,?)'\n",
    "    \n",
    "with con:\n",
    "    for station in r.json()['stationBeanList']:\n",
    "        cur.execute(sql, (station['id'],\n",
    "                          station['totalDocks'],\n",
    "                          station['city'],\n",
    "                          station['altitude'],\n",
    "                          station['stAddress2'],\n",
    "                          station['longitude'],\n",
    "                          station['postalCode'],\n",
    "                          station['testStation'],\n",
    "                          station['stAddress1'],\n",
    "                          station['stationName'],\n",
    "                          station['landMark'],\n",
    "                          station['latitude'],\n",
    "                          station['location'])\n",
    "                   )"
   ]
  },
  {
   "cell_type": "code",
   "execution_count": 18,
   "metadata": {
    "collapsed": false
   },
   "outputs": [],
   "source": [
    "# extract the column from the DataFrame and put them into a list\n",
    "station_ids = df['id'].tolist()\n",
    "\n",
    "# add the '_' to the station name and also add the data type for SQLite\n",
    "station_ids = ['_' + str(x) + ' INT' for x in station_ids]\n",
    "\n",
    "# create the table\n",
    "# in this case we are concatenation the string and joining all the station ids (now with an underscore and INT added)\n",
    "with con:\n",
    "    cur.execute(\"CREATE TABLE available_bikes ( execution_time INT, \" + \", \".join(station_ids) + \");\")"
   ]
  },
  {
   "cell_type": "code",
   "execution_count": 20,
   "metadata": {
    "collapsed": false
   },
   "outputs": [],
   "source": [
    "import time\n",
    "from dateutil.parser import parse\n",
    "import collections\n",
    "\n",
    "exec_time = parse(r.json()['executionTime'])\n",
    "\n",
    "with con:\n",
    "    cur.execute('INSERT INTO available_bikes (execution_time) VALUES (?)', (exec_time.strftime('%S'),))"
   ]
  },
  {
   "cell_type": "code",
   "execution_count": 22,
   "metadata": {
    "collapsed": false
   },
   "outputs": [],
   "source": [
    "id_bikes = collections.defaultdict(int)\n",
    "\n",
    "for station in r.json()['stationBeanList']:\n",
    "    id_bikes[station['id']] = station['availableBikes']\n",
    "    \n",
    "with con:\n",
    "    for k, v in id_bikes.iteritems():\n",
    "        # does Windows really have a different EPOCH time?\n",
    "        cur.execute(\"UPDATE available_bikes SET _\" + str(k) + \" = \" + str(v) + \" \" \\\n",
    "                    \"WHERE execution_time = \" + exec_time.strftime('%S') + \";\")"
   ]
  },
  {
   "cell_type": "markdown",
   "metadata": {},
   "source": [
    "I ran a script in the background to pull this data in over an hour _import_citibike_data.py_ \n",
    "\n",
    "Now we are ready for the analysis"
   ]
  },
  {
   "cell_type": "code",
   "execution_count": 41,
   "metadata": {
    "collapsed": false
   },
   "outputs": [
    {
     "data": {
      "text/html": [
       "<div>\n",
       "<table border=\"1\" class=\"dataframe\">\n",
       "  <thead>\n",
       "    <tr style=\"text-align: right;\">\n",
       "      <th></th>\n",
       "      <th>_72</th>\n",
       "      <th>_79</th>\n",
       "      <th>_82</th>\n",
       "      <th>_83</th>\n",
       "      <th>_116</th>\n",
       "      <th>_119</th>\n",
       "      <th>_120</th>\n",
       "      <th>_127</th>\n",
       "      <th>_128</th>\n",
       "      <th>_137</th>\n",
       "      <th>...</th>\n",
       "      <th>_3246</th>\n",
       "      <th>_3249</th>\n",
       "      <th>_3254</th>\n",
       "      <th>_3255</th>\n",
       "      <th>_3256</th>\n",
       "      <th>_3259</th>\n",
       "      <th>_3260</th>\n",
       "      <th>_3263</th>\n",
       "      <th>_3264</th>\n",
       "      <th>_3265</th>\n",
       "    </tr>\n",
       "    <tr>\n",
       "      <th>execution_time</th>\n",
       "      <th></th>\n",
       "      <th></th>\n",
       "      <th></th>\n",
       "      <th></th>\n",
       "      <th></th>\n",
       "      <th></th>\n",
       "      <th></th>\n",
       "      <th></th>\n",
       "      <th></th>\n",
       "      <th></th>\n",
       "      <th></th>\n",
       "      <th></th>\n",
       "      <th></th>\n",
       "      <th></th>\n",
       "      <th></th>\n",
       "      <th></th>\n",
       "      <th></th>\n",
       "      <th></th>\n",
       "      <th></th>\n",
       "      <th></th>\n",
       "      <th></th>\n",
       "    </tr>\n",
       "  </thead>\n",
       "  <tbody>\n",
       "    <tr>\n",
       "      <th>3</th>\n",
       "      <td>4</td>\n",
       "      <td>25</td>\n",
       "      <td>12</td>\n",
       "      <td>31</td>\n",
       "      <td>12</td>\n",
       "      <td>13</td>\n",
       "      <td>0</td>\n",
       "      <td>15</td>\n",
       "      <td>24</td>\n",
       "      <td>39</td>\n",
       "      <td>...</td>\n",
       "      <td>24</td>\n",
       "      <td>15</td>\n",
       "      <td>13</td>\n",
       "      <td>13</td>\n",
       "      <td>19</td>\n",
       "      <td>6</td>\n",
       "      <td>21</td>\n",
       "      <td>27</td>\n",
       "      <td>28</td>\n",
       "      <td>6</td>\n",
       "    </tr>\n",
       "    <tr>\n",
       "      <th>4</th>\n",
       "      <td>2</td>\n",
       "      <td>25</td>\n",
       "      <td>10</td>\n",
       "      <td>31</td>\n",
       "      <td>10</td>\n",
       "      <td>13</td>\n",
       "      <td>0</td>\n",
       "      <td>13</td>\n",
       "      <td>22</td>\n",
       "      <td>39</td>\n",
       "      <td>...</td>\n",
       "      <td>24</td>\n",
       "      <td>15</td>\n",
       "      <td>13</td>\n",
       "      <td>15</td>\n",
       "      <td>19</td>\n",
       "      <td>8</td>\n",
       "      <td>20</td>\n",
       "      <td>30</td>\n",
       "      <td>28</td>\n",
       "      <td>7</td>\n",
       "    </tr>\n",
       "    <tr>\n",
       "      <th>4</th>\n",
       "      <td>2</td>\n",
       "      <td>25</td>\n",
       "      <td>10</td>\n",
       "      <td>31</td>\n",
       "      <td>10</td>\n",
       "      <td>13</td>\n",
       "      <td>0</td>\n",
       "      <td>13</td>\n",
       "      <td>22</td>\n",
       "      <td>39</td>\n",
       "      <td>...</td>\n",
       "      <td>24</td>\n",
       "      <td>15</td>\n",
       "      <td>13</td>\n",
       "      <td>15</td>\n",
       "      <td>19</td>\n",
       "      <td>8</td>\n",
       "      <td>20</td>\n",
       "      <td>30</td>\n",
       "      <td>28</td>\n",
       "      <td>7</td>\n",
       "    </tr>\n",
       "    <tr>\n",
       "      <th>5</th>\n",
       "      <td>3</td>\n",
       "      <td>25</td>\n",
       "      <td>10</td>\n",
       "      <td>31</td>\n",
       "      <td>10</td>\n",
       "      <td>13</td>\n",
       "      <td>0</td>\n",
       "      <td>13</td>\n",
       "      <td>25</td>\n",
       "      <td>39</td>\n",
       "      <td>...</td>\n",
       "      <td>23</td>\n",
       "      <td>15</td>\n",
       "      <td>13</td>\n",
       "      <td>14</td>\n",
       "      <td>20</td>\n",
       "      <td>8</td>\n",
       "      <td>22</td>\n",
       "      <td>30</td>\n",
       "      <td>28</td>\n",
       "      <td>7</td>\n",
       "    </tr>\n",
       "  </tbody>\n",
       "</table>\n",
       "<p>4 rows × 509 columns</p>\n",
       "</div>"
      ],
      "text/plain": [
       "                _72  _79  _82  _83  _116  _119  _120  _127  _128  _137  ...    \\\n",
       "execution_time                                                          ...     \n",
       "3                 4   25   12   31    12    13     0    15    24    39  ...     \n",
       "4                 2   25   10   31    10    13     0    13    22    39  ...     \n",
       "4                 2   25   10   31    10    13     0    13    22    39  ...     \n",
       "5                 3   25   10   31    10    13     0    13    25    39  ...     \n",
       "\n",
       "                _3246  _3249  _3254  _3255  _3256  _3259  _3260  _3263  _3264  \\\n",
       "execution_time                                                                  \n",
       "3                  24     15     13     13     19      6     21     27     28   \n",
       "4                  24     15     13     15     19      8     20     30     28   \n",
       "4                  24     15     13     15     19      8     20     30     28   \n",
       "5                  23     15     13     14     20      8     22     30     28   \n",
       "\n",
       "                _3265  \n",
       "execution_time         \n",
       "3                   6  \n",
       "4                   7  \n",
       "4                   7  \n",
       "5                   7  \n",
       "\n",
       "[4 rows x 509 columns]"
      ]
     },
     "execution_count": 41,
     "metadata": {},
     "output_type": "execute_result"
    }
   ],
   "source": [
    "import pandas as pd\n",
    "import sqlite3 as lite\n",
    "\n",
    "con = lite.connect('citi_bike.db')\n",
    "cur = con.cursor()\n",
    "\n",
    "# looks like that even with the sleep the script made multiple requests in one minute...\n",
    "df = pd.read_sql_query(\"SELECT * FROM available_bikes ORDER BY execution_time\", con, index_col=\"execution_time\")\n",
    "df[0:4]"
   ]
  },
  {
   "cell_type": "markdown",
   "metadata": {},
   "source": [
    "### __Algorithm Time__\n",
    "\n",
    "Let's write out what we want to do in psuedocode\n",
    "\n",
    "__Goal:__ Collect and store the change of each station \n",
    "\n",
    "__1__ Initialize a dictionary to store the hourly differences\n",
    "__2__ Loop over each station, meaning loop over the columns \n",
    "__3__ Inside the loop create a list or vector of all the available bikes at that minute\n",
    "__4__ Calculate the change by taking the absolute value of the current stations available bikes at that minute minus the bikes available the next minute and add it to the overall total\n",
    "__5__ Set that overall total in the hourly difference dictionary and increment to the next station"
   ]
  },
  {
   "cell_type": "code",
   "execution_count": 42,
   "metadata": {
    "collapsed": true
   },
   "outputs": [],
   "source": [
    "hour_change = collections.defaultdict(int) # step 1\n",
    "\n",
    "for col in df.columns: # step 2\n",
    "    station_vals = df[col].tolist() # step 3\n",
    "    station_id = col[1:] # trims the \"_\" from the start of the station id\n",
    "    station_change = 0 # step 4 start\n",
    "    for k, v in enumerate(station_vals):\n",
    "        if k < len(station_vals) - 1:\n",
    "            station_change += abs(station_vals[k] - station_vals[k+1]) # step 4 end\n",
    "    hour_change[int(station_id)] = station_change # step 5"
   ]
  },
  {
   "cell_type": "code",
   "execution_count": 43,
   "metadata": {
    "collapsed": false
   },
   "outputs": [
    {
     "data": {
      "text/plain": [
       "477"
      ]
     },
     "execution_count": 43,
     "metadata": {},
     "output_type": "execute_result"
    }
   ],
   "source": [
    "# let's find our winner!\n",
    "def keywithmaxval(d):\n",
    "    return max(d, key=lambda k: d[k])\n",
    "\n",
    "max_station = keywithmaxval(hour_change)\n",
    "max_station"
   ]
  },
  {
   "cell_type": "markdown",
   "metadata": {},
   "source": [
    "477 does not mean mush to me... let's look up more about it!"
   ]
  },
  {
   "cell_type": "code",
   "execution_count": 48,
   "metadata": {
    "collapsed": false
   },
   "outputs": [
    {
     "name": "stdout",
     "output_type": "stream",
     "text": [
      "The most active station is id 477 at W 41 St & 8 Ave latitude: 40.75640548 longitude: -73.9900262\n",
      "With 302 bicycles coming and going in the hour between 1969-12-31 19:00:03 and 1969-12-31 19:00:58\n"
     ]
    }
   ],
   "source": [
    "import datetime\n",
    "\n",
    "# we will have to query the reference information\n",
    "cur.execute(\"SELECT id, stationname, latitude, longitude FROM citibike_reference WHERE id = ?\", (max_station,))\n",
    "data = cur.fetchone()\n",
    "print(\"The most active station is id %s at %s latitude: %s longitude: %s\" % data)\n",
    "print(\"With %d bicycles coming and going in the hour between %s and %s\" % (\n",
    "    hour_change[max_station],\n",
    "    datetime.datetime.fromtimestamp(int(df.index[0])).strftime('%Y-%m-%d %H:%M:%S'),\n",
    "    datetime.datetime.fromtimestamp(int(df.index[-1])).strftime('%Y-%m-%d %H:%M:%S')\n",
    "))"
   ]
  },
  {
   "cell_type": "code",
   "execution_count": 49,
   "metadata": {
    "collapsed": false
   },
   "outputs": [
    {
     "data": {
      "image/png": "[encoded data removed]",
      "text/plain": [
       "<matplotlib.figure.Figure at 0x117371350>"
      ]
     },
     "metadata": {},
     "output_type": "display_data"
    }
   ],
   "source": [
    "import matplotlib.pyplot as plf\n",
    "\n",
    "plt.bar(hour_change.keys(), hour_change.values())\n",
    "plt.show()"
   ]
  }
 ],
 "metadata": {
  "kernelspec": {
   "display_name": "Python 2",
   "language": "python",
   "name": "python2"
  },
  "language_info": {
   "codemirror_mode": {
    "name": "ipython",
    "version": 2
   },
   "file_extension": ".py",
   "mimetype": "text/x-python",
   "name": "python",
   "nbconvert_exporter": "python",
   "pygments_lexer": "ipython2",
   "version": "2.7.11"
  }
 },
 "nbformat": 4,
 "nbformat_minor": 0
}
