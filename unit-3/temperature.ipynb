{
 "cells": [
  {
   "cell_type": "markdown",
   "metadata": {},
   "source": [
    "# Weather Data Analysis\n",
    "#### Ben Wilson\n",
    "\n",
    "In this exercise we will learn to use an API to pull in the data we want to analyze.\n",
    "\n",
    "First step is to gather the information we need to make the API call"
   ]
  },
  {
   "cell_type": "code",
   "execution_count": null,
   "metadata": {
    "collapsed": true
   },
   "outputs": [],
   "source": [
    "cities = {\n",
    "    'Atlanta': '33.762909,-84.422675'\n",
    "    'Boston'': '42.331960,-71.020173',\n",
    "    'Chicago': '41.837551,-87.681844',\n",
    "    'Miami': '25.775163,-80.208615',\n",
    "    'New York': '40.663619,-73.938589',\n",
    "    'Philadelphia': '40.009376,-75.133346',\n",
    "    'San Francisco': '37.727239,-123.032229',\n",
    "    'Seattle': '47.620499,-122.350876'\n",
    "}\n",
    "\n",
    "api_key = '01fc899a5b932b0768623072891d5687'"
   ]
  }
 ],
 "metadata": {
  "kernelspec": {
   "display_name": "Python 2",
   "language": "python",
   "name": "python2"
  },
  "language_info": {
   "codemirror_mode": {
    "name": "ipython",
    "version": 2
   },
   "file_extension": ".py",
   "mimetype": "text/x-python",
   "name": "python",
   "nbconvert_exporter": "python",
   "pygments_lexer": "ipython2",
   "version": "2.7.11"
  }
 },
 "nbformat": 4,
 "nbformat_minor": 0
}
