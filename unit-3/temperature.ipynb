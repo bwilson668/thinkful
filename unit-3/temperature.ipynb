{
 "cells": [
  {
   "cell_type": "markdown",
   "metadata": {},
   "source": [
    "# Weather Data Analysis\n",
    "#### Ben Wilson\n",
    "\n",
    "In this exercise we will learn to use an API to pull in the data we want to analyze.\n",
    "\n",
    "First step is to gather the information we need to make the API call"
   ]
  },
  {
   "cell_type": "code",
   "execution_count": 1,
   "metadata": {
    "collapsed": false
   },
   "outputs": [
    {
     "data": {
      "text/plain": [
       "'33.762909,-84.422675'"
      ]
     },
     "execution_count": 1,
     "metadata": {},
     "output_type": "execute_result"
    }
   ],
   "source": [
    "cities = {\n",
    "    'Atlanta': '33.762909,-84.422675',\n",
    "    'Boston': '42.331960,-71.020173',\n",
    "    'Chicago': '41.837551,-87.681844',\n",
    "    'Miami': '25.775163,-80.208615',\n",
    "    'New York': '40.663619,-73.938589',\n",
    "    'Philadelphia': '40.009376,-75.133346',\n",
    "    'San Francisco': '37.727239,-123.032229',\n",
    "    'Seattle': '47.620499,-122.350876'\n",
    "}\n",
    "\n",
    "api_key = '01fc899a5b932b0768623072891d5687'\n",
    "\n",
    "cities['Atlanta']"
   ]
  },
  {
   "cell_type": "code",
   "execution_count": 2,
   "metadata": {
    "collapsed": false
   },
   "outputs": [
    {
     "data": {
      "text/plain": [
       "\"\\n{\\n  u'currently': {\\n      u'apparentTemperature': 83.73,\\n      u'cloudCover': 0.11,\\n      u'dewPoint': 69.98,\\n      u'humidity': 0.71,\\n      u'icon': u'clear-night',\\n      u'precipIntensity': 0,\\n      u'precipProbability': 0,\\n      u'pressure': 1015.18,\\n      u'summary': u'Clear',\\n      u'temperature': 80.42,\\n      u'time': 1465783968,\\n      u'visibility': 10,\\n      u'windBearing': 274,\\n      u'windSpeed': 5.78\\n  },\\n...\\n\""
      ]
     },
     "execution_count": 2,
     "metadata": {},
     "output_type": "execute_result"
    }
   ],
   "source": [
    "# now that we have our variables initialized, lets make our api call\n",
    "import datetime\n",
    "import requests\n",
    "\n",
    "start_date = datetime.datetime.now() - datetime.timedelta(days=30)\n",
    "\n",
    "url = 'https://api.forecast.io/forecast/' + api_key + \\\n",
    "    '/' + cities['Atlanta'] + ',' + start_date.strftime('%Y-%m-%dT%H:%M:%S')\n",
    "\n",
    "r = requests.get(url)\n",
    "# r.json()\n",
    "\"\"\"\n",
    "{\n",
    "  u'currently': {\n",
    "      u'apparentTemperature': 83.73,\n",
    "      u'cloudCover': 0.11,\n",
    "      u'dewPoint': 69.98,\n",
    "      u'humidity': 0.71,\n",
    "      u'icon': u'clear-night',\n",
    "      u'precipIntensity': 0,\n",
    "      u'precipProbability': 0,\n",
    "      u'pressure': 1015.18,\n",
    "      u'summary': u'Clear',\n",
    "      u'temperature': 80.42,\n",
    "      u'time': 1465783968,\n",
    "      u'visibility': 10,\n",
    "      u'windBearing': 274,\n",
    "      u'windSpeed': 5.78\n",
    "  },\n",
    "...\n",
    "\"\"\""
   ]
  },
  {
   "cell_type": "markdown",
   "metadata": {},
   "source": [
    "Let's try to clean it up some and loop over all the cities to pull it into a database"
   ]
  },
  {
   "cell_type": "code",
   "execution_count": 3,
   "metadata": {
    "collapsed": false
   },
   "outputs": [],
   "source": [
    "import requests\n",
    "import sqlite3 as lite\n",
    "import datetime\n",
    "\n",
    "# initialize some key variables\n",
    "api_key = '01fc899a5b932b0768623072891d5687'\n",
    "url = 'https://api.forecast.io/forecast/' + api_key + '/'\n",
    "\n",
    "cities = {\n",
    "    'atlanta': '33.762909,-84.422675',\n",
    "    'boston': '42.331960,-71.020173',\n",
    "    'chicago': '41.837551,-87.681844',\n",
    "    'miami': '25.775163,-80.208615',\n",
    "    'new_york': '40.663619,-73.938589',\n",
    "    'philadelphia': '40.009376,-75.133346',\n",
    "    'san_francisco': '37.727239,-123.032229',\n",
    "    'seattle': '47.620499,-122.350876'\n",
    "}\n",
    "\n",
    "end_date = datetime.datetime.now()\n",
    "query_date = end_date - datetime.timedelta(days=30)\n",
    "\n",
    "# connect to the database\n",
    "con = lite.connect('weather.db')\n",
    "cur = con.cursor()"
   ]
  },
  {
   "cell_type": "code",
   "execution_count": 4,
   "metadata": {
    "collapsed": true
   },
   "outputs": [],
   "source": [
    "# initialize our table\n",
    "with con:\n",
    "    cur.execute('CREATE TABLE daily_temp (day_of_reading INT, atlanta REAL, boston REAL, chicago REAL, miami REAL,' \\\n",
    "               'new_york REAL, philadelphia REAL, san_francisco REAL, seattle REAL)')"
   ]
  },
  {
   "cell_type": "code",
   "execution_count": 5,
   "metadata": {
    "collapsed": false
   },
   "outputs": [],
   "source": [
    "with con:\n",
    "    while query_date < end_date:\n",
    "        cur.execute(\"INSERT INTO daily_temp(day_of_reading) VALUES (?)\", (int(query_date.strftime('%S')),))\n",
    "        query_date += datetime.timedelta(days=1)"
   ]
  },
  {
   "cell_type": "code",
   "execution_count": 6,
   "metadata": {
    "collapsed": false
   },
   "outputs": [],
   "source": [
    "for k, v in cities.iteritems():\n",
    "    query_date = end_date - datetime.timedelta(days=30) # reset our starting query date\n",
    "    while query_date < end_date:\n",
    "        r = requests.get(url + v + ',' + query_date.strftime('%Y-%m-%dT12:00:00')) # get info at noon\n",
    "        \n",
    "        with con:\n",
    "            cur.execute('UPDATE daily_temp SET ' + k + ' = ' + str(r.json()['daily']['data'][0]['temperatureMax']) + ' WHERE day_of_reading = ' + query_date.strftime('%S'))\n",
    "            \n",
    "        query_date += datetime.timedelta(days=1)\n",
    "        \n",
    "con.close()"
   ]
  },
  {
   "cell_type": "markdown",
   "metadata": {},
   "source": [
    "Now that we have the data loaded in from the API it's time to do some analysis"
   ]
  },
  {
   "cell_type": "code",
   "execution_count": 10,
   "metadata": {
    "collapsed": false
   },
   "outputs": [
    {
     "data": {
      "text/html": [
       "<div>\n",
       "<table border=\"1\" class=\"dataframe\">\n",
       "  <thead>\n",
       "    <tr style=\"text-align: right;\">\n",
       "      <th></th>\n",
       "      <th>atlanta</th>\n",
       "      <th>boston</th>\n",
       "      <th>chicago</th>\n",
       "      <th>miami</th>\n",
       "      <th>new_york</th>\n",
       "      <th>philadelphia</th>\n",
       "      <th>san_francisco</th>\n",
       "      <th>seattle</th>\n",
       "    </tr>\n",
       "    <tr>\n",
       "      <th>day_of_reading</th>\n",
       "      <th></th>\n",
       "      <th></th>\n",
       "      <th></th>\n",
       "      <th></th>\n",
       "      <th></th>\n",
       "      <th></th>\n",
       "      <th></th>\n",
       "      <th></th>\n",
       "    </tr>\n",
       "  </thead>\n",
       "  <tbody>\n",
       "    <tr>\n",
       "      <th>43</th>\n",
       "      <td>91.58</td>\n",
       "      <td>83.36</td>\n",
       "      <td>88.08</td>\n",
       "      <td>90.39</td>\n",
       "      <td>79.71</td>\n",
       "      <td>86.74</td>\n",
       "      <td>56.65</td>\n",
       "      <td>72.71</td>\n",
       "    </tr>\n",
       "    <tr>\n",
       "      <th>43</th>\n",
       "      <td>91.58</td>\n",
       "      <td>83.36</td>\n",
       "      <td>88.08</td>\n",
       "      <td>90.39</td>\n",
       "      <td>79.71</td>\n",
       "      <td>86.74</td>\n",
       "      <td>56.65</td>\n",
       "      <td>72.71</td>\n",
       "    </tr>\n",
       "    <tr>\n",
       "      <th>43</th>\n",
       "      <td>91.58</td>\n",
       "      <td>83.36</td>\n",
       "      <td>88.08</td>\n",
       "      <td>90.39</td>\n",
       "      <td>79.71</td>\n",
       "      <td>86.74</td>\n",
       "      <td>56.65</td>\n",
       "      <td>72.71</td>\n",
       "    </tr>\n",
       "    <tr>\n",
       "      <th>43</th>\n",
       "      <td>91.58</td>\n",
       "      <td>83.36</td>\n",
       "      <td>88.08</td>\n",
       "      <td>90.39</td>\n",
       "      <td>79.71</td>\n",
       "      <td>86.74</td>\n",
       "      <td>56.65</td>\n",
       "      <td>72.71</td>\n",
       "    </tr>\n",
       "  </tbody>\n",
       "</table>\n",
       "</div>"
      ],
      "text/plain": [
       "                atlanta  boston  chicago  miami  new_york  philadelphia  \\\n",
       "day_of_reading                                                            \n",
       "43                91.58   83.36    88.08  90.39     79.71         86.74   \n",
       "43                91.58   83.36    88.08  90.39     79.71         86.74   \n",
       "43                91.58   83.36    88.08  90.39     79.71         86.74   \n",
       "43                91.58   83.36    88.08  90.39     79.71         86.74   \n",
       "\n",
       "                san_francisco  seattle  \n",
       "day_of_reading                          \n",
       "43                      56.65    72.71  \n",
       "43                      56.65    72.71  \n",
       "43                      56.65    72.71  \n",
       "43                      56.65    72.71  "
      ]
     },
     "execution_count": 10,
     "metadata": {},
     "output_type": "execute_result"
    }
   ],
   "source": [
    "import pandas as pd\n",
    "import sqlite3 as lite\n",
    "\n",
    "con = lite.connect('weather.db')\n",
    "cur = con.cursor()\n",
    "\n",
    "df = pd.read_sql_query(\"SELECT * FROM daily_temp ORDER BY day_of_reading\", con, index_col=\"day_of_reading\")\n",
    "df[:4]"
   ]
  },
  {
   "cell_type": "code",
   "execution_count": 13,
   "metadata": {
    "collapsed": false
   },
   "outputs": [
    {
     "name": "stdout",
     "output_type": "stream",
     "text": [
      "Average Temperatures over the last 30 days\n",
      "Atlanta: 91.58\n",
      "Boston: 83.36\n",
      "Chicago: 88.08\n",
      "Miami: 90.39\n",
      "New York: 79.71\n",
      "Philadelphia: 86.74\n",
      "San Francisco: 56.65\n",
      "Seattle: 72.71\n"
     ]
    }
   ],
   "source": [
    "print \"Average Temperatures over the last 30 days\"\n",
    "print \"Atlanta: \" + str(df['atlanta'].mean())\n",
    "print \"Boston: \" + str(df['boston'].mean())\n",
    "print \"Chicago: \" + str(df['chicago'].mean())\n",
    "print \"Miami: \" + str(df['miami'].mean())\n",
    "print \"New York: \" + str(df['new_york'].mean())\n",
    "print \"Philadelphia: \" + str(df['philadelphia'].mean())\n",
    "print \"San Francisco: \" + str(df['san_francisco'].mean())\n",
    "print \"Seattle: \" + str(df['seattle'].mean())"
   ]
  },
  {
   "cell_type": "code",
   "execution_count": 16,
   "metadata": {
    "collapsed": false
   },
   "outputs": [
    {
     "name": "stdout",
     "output_type": "stream",
     "text": [
      "Atlanta: 8.35648517531e-28\n",
      "Boston: 2.08912129383e-28\n",
      "Chicago: 8.35648517531e-28\n",
      "Miami: 2.08912129383e-28\n",
      "New York: 8.35648517531e-28\n",
      "Philadelphia: 1.88020916444e-27\n",
      "San Francisco: 4.70052291111e-28\n",
      "Seattle: 8.35648517531e-28\n"
     ]
    }
   ],
   "source": [
    "# what about variance\n",
    "print \"Atlanta: \" + str(df['atlanta'].var())\n",
    "print \"Boston: \" + str(df['boston'].var())\n",
    "print \"Chicago: \" + str(df['chicago'].var())\n",
    "print \"Miami: \" + str(df['miami'].var())\n",
    "print \"New York: \" + str(df['new_york'].var())\n",
    "print \"Philadelphia: \" + str(df['philadelphia'].var())\n",
    "print \"San Francisco: \" + str(df['san_francisco'].var())\n",
    "print \"Seattle: \" + str(df['seattle'].var())"
   ]
  },
  {
   "cell_type": "markdown",
   "metadata": {},
   "source": [
    "Looks like Atlanta was the most extreme and Philadephia the most steady. Let's look at it on a histogram"
   ]
  },
  {
   "cell_type": "code",
   "execution_count": 17,
   "metadata": {
    "collapsed": false
   },
   "outputs": [
    {
     "data": {
      "text/plain": [
       "<matplotlib.axes._subplots.AxesSubplot at 0xa2a9898>"
      ]
     },
     "execution_count": 17,
     "metadata": {},
     "output_type": "execute_result"
    },
    {
     "data": {
      "image/png": "[encoded data removed]",
      "text/plain": [
       "<matplotlib.figure.Figure at 0x96efa90>"
      ]
     },
     "metadata": {},
     "output_type": "display_data"
    }
   ],
   "source": [
    "%matplotlib inline\n",
    "import matplotlib.pyplot as plt\n",
    "\n",
    "df['atlanta'].hist()\n",
    "plt.show()"
   ]
  },
  {
   "cell_type": "code",
   "execution_count": 18,
   "metadata": {
    "collapsed": false
   },
   "outputs": [
    {
     "data": {
      "image/png": "[encoded data removed]",
      "text/plain": [
       "<matplotlib.figure.Figure at 0xa36ac88>"
      ]
     },
     "metadata": {},
     "output_type": "display_data"
    }
   ],
   "source": [
    "df['philadelphia'].hist()\n",
    "plt.show()"
   ]
  }
 ],
 "metadata": {
  "kernelspec": {
   "display_name": "Python 2",
   "language": "python",
   "name": "python2"
  },
  "language_info": {
   "codemirror_mode": {
    "name": "ipython",
    "version": 2
   },
   "file_extension": ".py",
   "mimetype": "text/x-python",
   "name": "python",
   "nbconvert_exporter": "python",
   "pygments_lexer": "ipython2",
   "version": "2.7.11"
  }
 },
 "nbformat": 4,
 "nbformat_minor": 0
}
