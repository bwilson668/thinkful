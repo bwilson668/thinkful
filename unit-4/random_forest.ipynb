{
 "cells": [
  {
   "cell_type": "markdown",
   "metadata": {},
   "source": [
    "# Decision Tree -- Random Forest\n",
    "#### Ben Wilson\n",
    "\n",
    "Our goal in this lesson is to optimize a decision tree through the random forest algorithm. This will find the right order for our features."
   ]
  },
  {
   "cell_type": "code",
   "execution_count": 9,
   "metadata": {
    "collapsed": false
   },
   "outputs": [],
   "source": [
    "import pandas as pd\n",
    "from sklearn.ensemble import RandomForestClassifier\n",
    "import sklearn.metrics as skm\n",
    "import pylab as pl\n",
    "\n",
    "# I used another student's pre-cleaned data.\n",
    "samtrain = pd.read_csv('samtrain.csv')\n",
    "samval = pd.read_csv('samval.csv')\n",
    "samtest = pd.read_csv('samtest.csv')\n",
    "samsungdata = pd.read_csv('samsungdata.csv')\n",
    "samsungmin = pd.read_csv('samsungmin.csv')"
   ]
  },
  {
   "cell_type": "markdown",
   "metadata": {},
   "source": [
    "After loading in our data we need to recode our target categories."
   ]
  },
  {
   "cell_type": "code",
   "execution_count": 10,
   "metadata": {
    "collapsed": false
   },
   "outputs": [],
   "source": [
    "activity_map = {\n",
    "    'laying':1,\n",
    "    'sitting':2,\n",
    "    'standing':3,\n",
    "    'walk':4,\n",
    "    'walkup':5,\n",
    "    'walkdown':6\n",
    "}\n",
    "\n",
    "samtrain['activity'] = samtrain['activity'].map(lambda x: activity_map[x])\n",
    "samval['activity'] = samval['activity'].map(lambda x: activity_map[x])\n",
    "samtest['activity'] = samtest['activity'].map(lambda x: activity_map[x])"
   ]
  },
  {
   "cell_type": "markdown",
   "metadata": {},
   "source": [
    "Next, let's initialize our random forest classifier, then optimize for it."
   ]
  },
  {
   "cell_type": "code",
   "execution_count": 12,
   "metadata": {
    "collapsed": false
   },
   "outputs": [
    {
     "name": "stdout",
     "output_type": "stream",
     "text": [
      "0.977186311787\n"
     ]
    }
   ],
   "source": [
    "rfc = RandomForestClassifier(n_estimators=500, oob_score=True)\n",
    "train_data = samtrain[samtrain.columns[1:-2]]\n",
    "train_truth = samtrain['activity']\n",
    "model = rfc.fit(train_data, train_truth)\n",
    "\n",
    "# the OOB score is an estimate of our accuracy\n",
    "print rfc.oob_score_"
   ]
  },
  {
   "cell_type": "markdown",
   "metadata": {},
   "source": [
    "Now let's grab the most important features. Those with a feature importance greater than 0.04."
   ]
  },
  {
   "cell_type": "code",
   "execution_count": 17,
   "metadata": {
    "collapsed": false
   },
   "outputs": [
    {
     "data": {
      "text/plain": [
       "[(0.046089791956719667, 'tAccMean'),\n",
       " (0.047879278053875832, 'tAccStd'),\n",
       " (0.043281600823698106, 'tJerkMean'),\n",
       " (0.052279415700474799, 'tGyroJerkMagSD'),\n",
       " (0.058506557329491157, 'fAccMean'),\n",
       " (0.040311812685981899, 'fJerkSD'),\n",
       " (0.13377018371907889, 'angleGyroJerkGravity'),\n",
       " (0.17852396226954265, 'angleXGravity'),\n",
       " (0.042972742227000905, 'angleYGravity')]"
      ]
     },
     "execution_count": 17,
     "metadata": {},
     "output_type": "execute_result"
    }
   ],
   "source": [
    "fi = enumerate(rfc.feature_importances_)\n",
    "cols = samtrain.columns\n",
    "# List comprehension!\n",
    "[(value, cols[i]) for (i, value) in fi if value > 0.04]"
   ]
  },
  {
   "cell_type": "code",
   "execution_count": 18,
   "metadata": {
    "collapsed": false
   },
   "outputs": [
    {
     "name": "stdout",
     "output_type": "stream",
     "text": [
      "mean accuracy score for validation set = 0.837539\n",
      "mean accuracy score for test set = 0.896970\n"
     ]
    }
   ],
   "source": [
    "val_data = samval[samval.columns[1:-2]]\n",
    "val_truth = samval['activity']\n",
    "val_pred = rfc.predict(val_data)\n",
    "\n",
    "test_data = samtest[samtest.columns[1:-2]]\n",
    "test_truth = samtest['activity']\n",
    "test_pred = rfc.predict(test_data)\n",
    "\n",
    "print(\"mean accuracy score for validation set = %f\" %(rfc.score(val_data, val_truth)))\n",
    "print(\"mean accuracy score for test set = %f\" %(rfc.score(test_data, test_truth)))"
   ]
  },
  {
   "cell_type": "markdown",
   "metadata": {},
   "source": [
    "It looks like we are doing a decent job deciding which category they should fall into.\n",
    "\n",
    "Let's see if we can visualize where they might be falling out, or misclassified..."
   ]
  },
  {
   "cell_type": "code",
   "execution_count": 20,
   "metadata": {
    "collapsed": false
   },
   "outputs": [
    {
     "data": {
      "image/png": "[encoded data removed]",
      "text/plain": [
       "<matplotlib.figure.Figure at 0x114adf610>"
      ]
     },
     "metadata": {},
     "output_type": "display_data"
    }
   ],
   "source": [
    "%matplotlib inline\n",
    "test_cm = skm.confusion_matrix(test_truth, test_pred)\n",
    "\n",
    "pl.matshow(test_cm)\n",
    "pl.title('Confusion matrix for test data')\n",
    "pl.colorbar()\n",
    "pl.show()"
   ]
  },
  {
   "cell_type": "markdown",
   "metadata": {},
   "source": [
    "It's great that the confusion matrix is so bright along the diagonal. That means when we call something a 0 _(laying)_ It really is laying, or when something is a 4 _(walkup)_ the person was actually doing that activity.\n",
    "\n",
    "It seems our biggest point of confusion comes from calling 1 a 2 and 2 a 1. That shows we are mis-classifying standing and sitting.\n",
    "\n",
    "If you think about the real-world mechanics behind both actions you can justify why the data would have a hard time distinguishing between the two. Both activities have you in a stationairy position with your torso oriented vertically.\n",
    "\n",
    "We can look at a few more measures to see the performance of our prediction."
   ]
  },
  {
   "cell_type": "code",
   "execution_count": 21,
   "metadata": {
    "collapsed": false
   },
   "outputs": [
    {
     "name": "stdout",
     "output_type": "stream",
     "text": [
      "Accuracy = 0.896970\n",
      "Precision = 0.899477\n",
      "Recall = 0.896970\n",
      "F1 score = 0.897309\n"
     ]
    },
    {
     "name": "stderr",
     "output_type": "stream",
     "text": [
      "/Applications/anaconda/lib/python2.7/site-packages/sklearn/metrics/classification.py:1203: DeprecationWarning: The default `weighted` averaging is deprecated, and from version 0.18, use of precision, recall or F-score with multiclass or multilabel data or pos_label=None will result in an exception. Please set an explicit value for `average`, one of (None, 'micro', 'macro', 'weighted', 'samples'). In cross validation use, for instance, scoring=\"f1_weighted\" instead of scoring=\"f1\".\n",
      "  sample_weight=sample_weight)\n",
      "/Applications/anaconda/lib/python2.7/site-packages/sklearn/metrics/classification.py:1304: DeprecationWarning: The default `weighted` averaging is deprecated, and from version 0.18, use of precision, recall or F-score with multiclass or multilabel data or pos_label=None will result in an exception. Please set an explicit value for `average`, one of (None, 'micro', 'macro', 'weighted', 'samples'). In cross validation use, for instance, scoring=\"f1_weighted\" instead of scoring=\"f1\".\n",
      "  sample_weight=sample_weight)\n",
      "/Applications/anaconda/lib/python2.7/site-packages/sklearn/metrics/classification.py:756: DeprecationWarning: The default `weighted` averaging is deprecated, and from version 0.18, use of precision, recall or F-score with multiclass or multilabel data or pos_label=None will result in an exception. Please set an explicit value for `average`, one of (None, 'micro', 'macro', 'weighted', 'samples'). In cross validation use, for instance, scoring=\"f1_weighted\" instead of scoring=\"f1\".\n",
      "  sample_weight=sample_weight)\n"
     ]
    }
   ],
   "source": [
    "# Accuracy\n",
    "print(\"Accuracy = %f\" %(skm.accuracy_score(test_truth,test_pred)))\n",
    "# Precision\n",
    "print(\"Precision = %f\" %(skm.precision_score(test_truth,test_pred)))\n",
    "# Recall\n",
    "print(\"Recall = %f\" %(skm.recall_score(test_truth,test_pred)))\n",
    "# F1 Score\n",
    "print(\"F1 score = %f\" %(skm.f1_score(test_truth,test_pred)))"
   ]
  }
 ],
 "metadata": {
  "kernelspec": {
   "display_name": "Python 2",
   "language": "python",
   "name": "python2"
  },
  "language_info": {
   "codemirror_mode": {
    "name": "ipython",
    "version": 2
   },
   "file_extension": ".py",
   "mimetype": "text/x-python",
   "name": "python",
   "nbconvert_exporter": "python",
   "pygments_lexer": "ipython2",
   "version": "2.7.11"
  }
 },
 "nbformat": 4,
 "nbformat_minor": 0
}
