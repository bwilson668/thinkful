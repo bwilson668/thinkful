{
 "cells": [
  {
   "cell_type": "code",
   "execution_count": 73,
   "metadata": {
    "collapsed": false
   },
   "outputs": [
    {
     "data": {
      "text/html": [
       "<div>\n",
       "<table border=\"1\" class=\"dataframe\">\n",
       "  <thead>\n",
       "    <tr style=\"text-align: right;\">\n",
       "      <th></th>\n",
       "      <th>olympic_id</th>\n",
       "      <th>year</th>\n",
       "      <th>available_medals</th>\n",
       "      <th>country_abv</th>\n",
       "      <th>country</th>\n",
       "      <th>olympic_medals</th>\n",
       "      <th>olympic_medal_percentage</th>\n",
       "      <th>prev_olympic_medals</th>\n",
       "      <th>prev_olympic_medal_percentage</th>\n",
       "      <th>host_nation</th>\n",
       "      <th>...</th>\n",
       "      <th>region_advantage</th>\n",
       "      <th>gdp</th>\n",
       "      <th>income_group</th>\n",
       "      <th>income_group_id</th>\n",
       "      <th>population</th>\n",
       "      <th>Unnamed: 19</th>\n",
       "      <th>Unnamed: 20</th>\n",
       "      <th>Unnamed: 21</th>\n",
       "      <th>Unnamed: 22</th>\n",
       "      <th>Unnamed: 23</th>\n",
       "    </tr>\n",
       "  </thead>\n",
       "  <tbody>\n",
       "    <tr>\n",
       "      <th>0</th>\n",
       "      <td>15</td>\n",
       "      <td>1960</td>\n",
       "      <td>144</td>\n",
       "      <td>ARG</td>\n",
       "      <td>Argentina</td>\n",
       "      <td>2</td>\n",
       "      <td>0.0139</td>\n",
       "      <td>NaN</td>\n",
       "      <td>NaN</td>\n",
       "      <td>ITA</td>\n",
       "      <td>...</td>\n",
       "      <td>0</td>\n",
       "      <td>NaN</td>\n",
       "      <td>Not classified</td>\n",
       "      <td>0</td>\n",
       "      <td>20619075</td>\n",
       "      <td>NaN</td>\n",
       "      <td>NaN</td>\n",
       "      <td>NaN</td>\n",
       "      <td>NaN</td>\n",
       "      <td>NaN</td>\n",
       "    </tr>\n",
       "    <tr>\n",
       "      <th>1</th>\n",
       "      <td>15</td>\n",
       "      <td>1960</td>\n",
       "      <td>144</td>\n",
       "      <td>AUS</td>\n",
       "      <td>Australia</td>\n",
       "      <td>22</td>\n",
       "      <td>0.1528</td>\n",
       "      <td>NaN</td>\n",
       "      <td>NaN</td>\n",
       "      <td>ITA</td>\n",
       "      <td>...</td>\n",
       "      <td>0</td>\n",
       "      <td>1.856759e+10</td>\n",
       "      <td>High income</td>\n",
       "      <td>4</td>\n",
       "      <td>10276477</td>\n",
       "      <td>NaN</td>\n",
       "      <td>NaN</td>\n",
       "      <td>NaN</td>\n",
       "      <td>NaN</td>\n",
       "      <td>NaN</td>\n",
       "    </tr>\n",
       "    <tr>\n",
       "      <th>2</th>\n",
       "      <td>15</td>\n",
       "      <td>1960</td>\n",
       "      <td>144</td>\n",
       "      <td>AUT</td>\n",
       "      <td>Austria</td>\n",
       "      <td>2</td>\n",
       "      <td>0.0139</td>\n",
       "      <td>NaN</td>\n",
       "      <td>NaN</td>\n",
       "      <td>ITA</td>\n",
       "      <td>...</td>\n",
       "      <td>1</td>\n",
       "      <td>6.592694e+09</td>\n",
       "      <td>High income</td>\n",
       "      <td>4</td>\n",
       "      <td>7047539</td>\n",
       "      <td>NaN</td>\n",
       "      <td>NaN</td>\n",
       "      <td>NaN</td>\n",
       "      <td>NaN</td>\n",
       "      <td>NaN</td>\n",
       "    </tr>\n",
       "    <tr>\n",
       "      <th>3</th>\n",
       "      <td>15</td>\n",
       "      <td>1960</td>\n",
       "      <td>144</td>\n",
       "      <td>BEL</td>\n",
       "      <td>Belgium</td>\n",
       "      <td>4</td>\n",
       "      <td>0.0278</td>\n",
       "      <td>NaN</td>\n",
       "      <td>NaN</td>\n",
       "      <td>ITA</td>\n",
       "      <td>...</td>\n",
       "      <td>1</td>\n",
       "      <td>1.165872e+10</td>\n",
       "      <td>High income</td>\n",
       "      <td>4</td>\n",
       "      <td>9153489</td>\n",
       "      <td>NaN</td>\n",
       "      <td>NaN</td>\n",
       "      <td>NaN</td>\n",
       "      <td>NaN</td>\n",
       "      <td>NaN</td>\n",
       "    </tr>\n",
       "    <tr>\n",
       "      <th>4</th>\n",
       "      <td>15</td>\n",
       "      <td>1960</td>\n",
       "      <td>144</td>\n",
       "      <td>BRA</td>\n",
       "      <td>Brazil</td>\n",
       "      <td>2</td>\n",
       "      <td>0.0139</td>\n",
       "      <td>NaN</td>\n",
       "      <td>NaN</td>\n",
       "      <td>ITA</td>\n",
       "      <td>...</td>\n",
       "      <td>0</td>\n",
       "      <td>1.516557e+10</td>\n",
       "      <td>Upper middle income</td>\n",
       "      <td>3</td>\n",
       "      <td>72493585</td>\n",
       "      <td>NaN</td>\n",
       "      <td>NaN</td>\n",
       "      <td>NaN</td>\n",
       "      <td>NaN</td>\n",
       "      <td>NaN</td>\n",
       "    </tr>\n",
       "  </tbody>\n",
       "</table>\n",
       "<p>5 rows × 24 columns</p>\n",
       "</div>"
      ],
      "text/plain": [
       "   olympic_id  year  available_medals country_abv    country  olympic_medals  \\\n",
       "0          15  1960               144         ARG  Argentina               2   \n",
       "1          15  1960               144         AUS  Australia              22   \n",
       "2          15  1960               144         AUT    Austria               2   \n",
       "3          15  1960               144         BEL    Belgium               4   \n",
       "4          15  1960               144         BRA     Brazil               2   \n",
       "\n",
       "   olympic_medal_percentage  prev_olympic_medals  \\\n",
       "0                    0.0139                  NaN   \n",
       "1                    0.1528                  NaN   \n",
       "2                    0.0139                  NaN   \n",
       "3                    0.0278                  NaN   \n",
       "4                    0.0139                  NaN   \n",
       "\n",
       "   prev_olympic_medal_percentage host_nation     ...       region_advantage  \\\n",
       "0                            NaN         ITA     ...                      0   \n",
       "1                            NaN         ITA     ...                      0   \n",
       "2                            NaN         ITA     ...                      1   \n",
       "3                            NaN         ITA     ...                      1   \n",
       "4                            NaN         ITA     ...                      0   \n",
       "\n",
       "            gdp         income_group  income_group_id  population  \\\n",
       "0           NaN       Not classified                0    20619075   \n",
       "1  1.856759e+10          High income                4    10276477   \n",
       "2  6.592694e+09          High income                4     7047539   \n",
       "3  1.165872e+10          High income                4     9153489   \n",
       "4  1.516557e+10  Upper middle income                3    72493585   \n",
       "\n",
       "   Unnamed: 19 Unnamed: 20  Unnamed: 21  Unnamed: 22  Unnamed: 23  \n",
       "0          NaN         NaN          NaN          NaN          NaN  \n",
       "1          NaN         NaN          NaN          NaN          NaN  \n",
       "2          NaN         NaN          NaN          NaN          NaN  \n",
       "3          NaN         NaN          NaN          NaN          NaN  \n",
       "4          NaN         NaN          NaN          NaN          NaN  \n",
       "\n",
       "[5 rows x 24 columns]"
      ]
     },
     "execution_count": 73,
     "metadata": {},
     "output_type": "execute_result"
    }
   ],
   "source": [
    "%matplotlib inline\n",
    "\n",
    "import matplotlib.pyplot as plt\n",
    "import csv\n",
    "import pandas as pd\n",
    "import numpy as np\n",
    "import statsmodels.formula.api as smf\n",
    "\n",
    "df = pd.read_csv('data/olympic-country-medals-with-indicators.csv')\n",
    "df.head()"
   ]
  },
  {
   "cell_type": "markdown",
   "metadata": {},
   "source": [
    "## Data Exploration\n",
    "Let's take a quick look at some of the features to get a sense of what should be included in our model."
   ]
  },
  {
   "cell_type": "code",
   "execution_count": 74,
   "metadata": {
    "collapsed": false
   },
   "outputs": [
    {
     "name": "stdout",
     "output_type": "stream",
     "text": [
      "0            NaN\n",
      "1    1806.804876\n",
      "2     935.460427\n",
      "3    1273.691659\n",
      "Name: gdp_per_cap, dtype: float64\n"
     ]
    }
   ],
   "source": [
    "df['gdp_per_cap'] = df['gdp']/df['population']\n",
    "print df['gdp_per_cap'][:4]"
   ]
  },
  {
   "cell_type": "code",
   "execution_count": 76,
   "metadata": {
    "collapsed": false
   },
   "outputs": [
    {
     "data": {
      "text/plain": [
       "<function matplotlib.pyplot.show>"
      ]
     },
     "execution_count": 76,
     "metadata": {},
     "output_type": "execute_result"
    },
    {
     "data": {
      "image/png": "[encoded data removed]",
      "text/plain": [
       "<matplotlib.figure.Figure at 0x116f66310>"
      ]
     },
     "metadata": {},
     "output_type": "display_data"
    }
   ],
   "source": [
    "plt.scatter(df['gdp_per_cap'], df['olympic_medals'])\n",
    "plt.show"
   ]
  },
  {
   "cell_type": "markdown",
   "metadata": {},
   "source": [
    "The scatter plot of GDP per Capita by Medal Count does not show a strong correlation. \n",
    "\n",
    "Full GDP might."
   ]
  },
  {
   "cell_type": "code",
   "execution_count": 78,
   "metadata": {
    "collapsed": false
   },
   "outputs": [
    {
     "data": {
      "text/plain": [
       "<function matplotlib.pyplot.show>"
      ]
     },
     "execution_count": 78,
     "metadata": {},
     "output_type": "execute_result"
    },
    {
     "data": {
      "image/png": "[encoded data removed]",
      "text/plain": [
       "<matplotlib.figure.Figure at 0x116f66710>"
      ]
     },
     "metadata": {},
     "output_type": "display_data"
    }
   ],
   "source": [
    "plt.scatter(df['gdp'], df['olympic_medals'])\n",
    "plt.show"
   ]
  },
  {
   "cell_type": "markdown",
   "metadata": {},
   "source": [
    "GDP has a stronger coorelation than GDP per Capita. I believe this is because GDP is linked to Population. The higher the population, the more wealth a country can produce and also the country has a bigger pool of athletes to select from for the Olympics.\n",
    "\n",
    "Let us next take a look at GDP by Population and how Population might coorelate to Olympic Medals."
   ]
  },
  {
   "cell_type": "code",
   "execution_count": 68,
   "metadata": {
    "collapsed": false
   },
   "outputs": [
    {
     "data": {
      "text/plain": [
       "<function matplotlib.pyplot.show>"
      ]
     },
     "execution_count": 68,
     "metadata": {},
     "output_type": "execute_result"
    },
    {
     "data": {
      "image/png": "[encoded data removed]",
      "text/plain": [
       "<matplotlib.figure.Figure at 0x116b88590>"
      ]
     },
     "metadata": {},
     "output_type": "display_data"
    }
   ],
   "source": [
    "plt.scatter(df['gdp'], df['population'])\n",
    "plt.show"
   ]
  },
  {
   "cell_type": "markdown",
   "metadata": {},
   "source": [
    "On the x-axis we have GDP and on the y-axis is population. This is showing us that population does not necessarily mean the country will generate more wealth. The population's of India and China are stretching the y-axis. "
   ]
  },
  {
   "cell_type": "code",
   "execution_count": 69,
   "metadata": {
    "collapsed": false
   },
   "outputs": [
    {
     "data": {
      "text/plain": [
       "<function matplotlib.pyplot.show>"
      ]
     },
     "execution_count": 69,
     "metadata": {},
     "output_type": "execute_result"
    },
    {
     "data": {
      "image/png": "[encoded data removed]",
      "text/plain": [
       "<matplotlib.figure.Figure at 0x1040b5c90>"
      ]
     },
     "metadata": {},
     "output_type": "display_data"
    }
   ],
   "source": [
    "plt.scatter(df['population'], df['olympic_medals'])\n",
    "plt.show"
   ]
  },
  {
   "cell_type": "markdown",
   "metadata": {},
   "source": [
    "Population by Olympic Medals does show some coorelation, but is again being strung out by India and China.\n",
    "\n",
    "Population does not look to be as strong an indicator as GDP. GDP measures Population to an extenet and also somewhat measures how much money the athletes have access to for training. GDP seems to be our best predictor so far."
   ]
  },
  {
   "cell_type": "code",
   "execution_count": 81,
   "metadata": {
    "collapsed": false
   },
   "outputs": [
    {
     "data": {
      "text/plain": [
       "<function matplotlib.pyplot.show>"
      ]
     },
     "execution_count": 81,
     "metadata": {},
     "output_type": "execute_result"
    },
    {
     "data": {
      "image/png": "[encoded data removed]",
      "text/plain": [
       "<matplotlib.figure.Figure at 0x11835c450>"
      ]
     },
     "metadata": {},
     "output_type": "display_data"
    }
   ],
   "source": [
    "plt.scatter(df['prev_olympic_medals'], df['olympic_medals'])\n",
    "plt.show"
   ]
  },
  {
   "cell_type": "markdown",
   "metadata": {},
   "source": [
    "Now __this is interesting!__ There is a strong coorelation between a country's previous Olympic performance and how they did in the next Olympics.\n",
    "\n",
    "The Olympics are always growing though! More events are added, which means more medals are awarded. It would be more accurate to compare percentage of medals won. "
   ]
  },
  {
   "cell_type": "code",
   "execution_count": 83,
   "metadata": {
    "collapsed": false
   },
   "outputs": [
    {
     "data": {
      "text/plain": [
       "<function matplotlib.pyplot.show>"
      ]
     },
     "execution_count": 83,
     "metadata": {},
     "output_type": "execute_result"
    },
    {
     "data": {
      "image/png": "[encoded data removed]",
      "text/plain": [
       "<matplotlib.figure.Figure at 0x1185153d0>"
      ]
     },
     "metadata": {},
     "output_type": "display_data"
    }
   ],
   "source": [
    "plt.scatter(df['prev_olympic_medal_percentage'], df['olympic_medal_percentage'])\n",
    "plt.show"
   ]
  },
  {
   "cell_type": "markdown",
   "metadata": {},
   "source": [
    "Comparing percentages tightens our coorelation up even more and allows us to pass a \"Number of Events\" predictor into our model. \n",
    "\n",
    "## Build the model\n",
    "After our data exploration we are ready to build and test some models. I think GDP and Previous Olympic Medal performance are going to be the two best indicators to use."
   ]
  },
  {
   "cell_type": "code",
   "execution_count": 133,
   "metadata": {
    "collapsed": false
   },
   "outputs": [
    {
     "data": {
      "text/html": [
       "<table class=\"simpletable\">\n",
       "<caption>OLS Regression Results</caption>\n",
       "<tr>\n",
       "  <th>Dep. Variable:</th>     <td>olympic_medals</td>  <th>  R-squared:         </th> <td>   0.518</td>\n",
       "</tr>\n",
       "<tr>\n",
       "  <th>Model:</th>                   <td>OLS</td>       <th>  Adj. R-squared:    </th> <td>   0.196</td>\n",
       "</tr>\n",
       "<tr>\n",
       "  <th>Method:</th>             <td>Least Squares</td>  <th>  F-statistic:       </th> <td>   1.610</td>\n",
       "</tr>\n",
       "<tr>\n",
       "  <th>Date:</th>             <td>Sun, 04 Sep 2016</td> <th>  Prob (F-statistic):</th>  <td> 0.287</td> \n",
       "</tr>\n",
       "<tr>\n",
       "  <th>Time:</th>                 <td>20:24:09</td>     <th>  Log-Likelihood:    </th> <td> -38.253</td>\n",
       "</tr>\n",
       "<tr>\n",
       "  <th>No. Observations:</th>      <td>    11</td>      <th>  AIC:               </th> <td>   86.51</td>\n",
       "</tr>\n",
       "<tr>\n",
       "  <th>Df Residuals:</th>          <td>     6</td>      <th>  BIC:               </th> <td>   88.50</td>\n",
       "</tr>\n",
       "<tr>\n",
       "  <th>Df Model:</th>              <td>     4</td>      <th>                     </th>     <td> </td>   \n",
       "</tr>\n",
       "<tr>\n",
       "  <th>Covariance Type:</th>      <td>nonrobust</td>    <th>                     </th>     <td> </td>   \n",
       "</tr>\n",
       "</table>\n",
       "<table class=\"simpletable\">\n",
       "<tr>\n",
       "                <td></td>                   <th>coef</th>     <th>std err</th>      <th>t</th>      <th>P>|t|</th> <th>[95.0% Conf. Int.]</th> \n",
       "</tr>\n",
       "<tr>\n",
       "  <th>Intercept</th>                     <td>   -5.9286</td> <td>   28.088</td> <td>   -0.211</td> <td> 0.840</td> <td>  -74.658    62.801</td>\n",
       "</tr>\n",
       "<tr>\n",
       "  <th>available_medals</th>              <td>    0.0631</td> <td>    0.164</td> <td>    0.385</td> <td> 0.714</td> <td>   -0.338     0.464</td>\n",
       "</tr>\n",
       "<tr>\n",
       "  <th>prev_olympic_medal_percentage</th> <td>    6.6216</td> <td>   67.607</td> <td>    0.098</td> <td> 0.925</td> <td> -158.808   172.051</td>\n",
       "</tr>\n",
       "<tr>\n",
       "  <th>gdp</th>                           <td> 2.635e-12</td> <td> 1.79e-11</td> <td>    0.147</td> <td> 0.888</td> <td>-4.11e-11  4.64e-11</td>\n",
       "</tr>\n",
       "<tr>\n",
       "  <th>region_advantage</th>              <td>   16.6894</td> <td>    7.520</td> <td>    2.219</td> <td> 0.068</td> <td>   -1.712    35.091</td>\n",
       "</tr>\n",
       "</table>\n",
       "<table class=\"simpletable\">\n",
       "<tr>\n",
       "  <th>Omnibus:</th>       <td> 8.116</td> <th>  Durbin-Watson:     </th> <td>   2.923</td>\n",
       "</tr>\n",
       "<tr>\n",
       "  <th>Prob(Omnibus):</th> <td> 0.017</td> <th>  Jarque-Bera (JB):  </th> <td>   3.434</td>\n",
       "</tr>\n",
       "<tr>\n",
       "  <th>Skew:</th>          <td> 1.109</td> <th>  Prob(JB):          </th> <td>   0.180</td>\n",
       "</tr>\n",
       "<tr>\n",
       "  <th>Kurtosis:</th>      <td> 4.605</td> <th>  Cond. No.          </th> <td>1.46e+13</td>\n",
       "</tr>\n",
       "</table>"
      ],
      "text/plain": [
       "<class 'statsmodels.iolib.summary.Summary'>\n",
       "\"\"\"\n",
       "                            OLS Regression Results                            \n",
       "==============================================================================\n",
       "Dep. Variable:         olympic_medals   R-squared:                       0.518\n",
       "Model:                            OLS   Adj. R-squared:                  0.196\n",
       "Method:                 Least Squares   F-statistic:                     1.610\n",
       "Date:                Sun, 04 Sep 2016   Prob (F-statistic):              0.287\n",
       "Time:                        20:24:09   Log-Likelihood:                -38.253\n",
       "No. Observations:                  11   AIC:                             86.51\n",
       "Df Residuals:                       6   BIC:                             88.50\n",
       "Df Model:                           4                                         \n",
       "Covariance Type:            nonrobust                                         \n",
       "=================================================================================================\n",
       "                                    coef    std err          t      P>|t|      [95.0% Conf. Int.]\n",
       "-------------------------------------------------------------------------------------------------\n",
       "Intercept                        -5.9286     28.088     -0.211      0.840       -74.658    62.801\n",
       "available_medals                  0.0631      0.164      0.385      0.714        -0.338     0.464\n",
       "prev_olympic_medal_percentage     6.6216     67.607      0.098      0.925      -158.808   172.051\n",
       "gdp                            2.635e-12   1.79e-11      0.147      0.888     -4.11e-11  4.64e-11\n",
       "region_advantage                 16.6894      7.520      2.219      0.068        -1.712    35.091\n",
       "==============================================================================\n",
       "Omnibus:                        8.116   Durbin-Watson:                   2.923\n",
       "Prob(Omnibus):                  0.017   Jarque-Bera (JB):                3.434\n",
       "Skew:                           1.109   Prob(JB):                        0.180\n",
       "Kurtosis:                       4.605   Cond. No.                     1.46e+13\n",
       "==============================================================================\n",
       "\n",
       "Warnings:\n",
       "[1] Standard Errors assume that the covariance matrix of the errors is correctly specified.\n",
       "[2] The condition number is large, 1.46e+13. This might indicate that there are\n",
       "strong multicollinearity or other numerical problems.\n",
       "\"\"\""
      ]
     },
     "execution_count": 133,
     "metadata": {},
     "output_type": "execute_result"
    }
   ],
   "source": [
    "def country_regression(country_abv):\n",
    "    country_df = df[df.country_abv == country_abv]\n",
    "    formula = 'olympic_medals ~ available_medals + prev_olympic_medal_percentage + gdp + region_advantage'\n",
    "\n",
    "    return smf.ols(formula=formula, data=country_df).fit()\n",
    "\n",
    "usa = country_regression('CAN')\n",
    "usa.summary()"
   ]
  },
  {
   "cell_type": "code",
   "execution_count": 101,
   "metadata": {
    "collapsed": false
   },
   "outputs": [
    {
     "name": "stdout",
     "output_type": "stream",
     "text": [
      "('TRAIN:', array([3, 4]), 'TEST:', array([0, 1, 2]))\n",
      "('TRAIN:', array([0, 1, 2]), 'TEST:', array([3, 4]))\n"
     ]
    }
   ],
   "source": [
    "from sklearn.cross_validation import KFold\n",
    "\n",
    "country_df = df[df.country_abv == 'USA']\n",
    "X = country_df[['available_medals', 'prev_olympic_medal_percentage', 'gdp', 'host_advantage', 'region_advantage']]\n",
    "y = country_df.olympic_medals\n",
    "kf = KFold(5, n_folds=2)\n",
    "\n",
    "for train_index, test_index in kf:\n",
    "    print(\"TRAIN:\", train_index, \"TEST:\", test_index)\n",
    "    X_train, X_test = X[train_index], X[test_index]\n",
    "    y_train, y_test = y[train_index], y[test_index]"
   ]
  },
  {
   "cell_type": "code",
   "execution_count": 71,
   "metadata": {
    "collapsed": false
   },
   "outputs": [
    {
     "data": {
      "text/html": [
       "<div>\n",
       "<table border=\"1\" class=\"dataframe\">\n",
       "  <thead>\n",
       "    <tr style=\"text-align: right;\">\n",
       "      <th></th>\n",
       "      <th>year</th>\n",
       "      <th>gdp</th>\n",
       "    </tr>\n",
       "  </thead>\n",
       "  <tbody>\n",
       "    <tr>\n",
       "      <th>28</th>\n",
       "      <td>1960</td>\n",
       "      <td>5.430000e+11</td>\n",
       "    </tr>\n",
       "    <tr>\n",
       "      <th>59</th>\n",
       "      <td>1964</td>\n",
       "      <td>6.860000e+11</td>\n",
       "    </tr>\n",
       "    <tr>\n",
       "      <th>90</th>\n",
       "      <td>1968</td>\n",
       "      <td>9.430000e+11</td>\n",
       "    </tr>\n",
       "    <tr>\n",
       "      <th>125</th>\n",
       "      <td>1972</td>\n",
       "      <td>1.280000e+12</td>\n",
       "    </tr>\n",
       "    <tr>\n",
       "      <th>152</th>\n",
       "      <td>1976</td>\n",
       "      <td>1.880000e+12</td>\n",
       "    </tr>\n",
       "    <tr>\n",
       "      <th>214</th>\n",
       "      <td>1984</td>\n",
       "      <td>4.040000e+12</td>\n",
       "    </tr>\n",
       "    <tr>\n",
       "      <th>252</th>\n",
       "      <td>1988</td>\n",
       "      <td>5.250000e+12</td>\n",
       "    </tr>\n",
       "    <tr>\n",
       "      <th>295</th>\n",
       "      <td>1992</td>\n",
       "      <td>6.540000e+12</td>\n",
       "    </tr>\n",
       "    <tr>\n",
       "      <th>346</th>\n",
       "      <td>1996</td>\n",
       "      <td>8.100000e+12</td>\n",
       "    </tr>\n",
       "    <tr>\n",
       "      <th>402</th>\n",
       "      <td>2000</td>\n",
       "      <td>1.030000e+13</td>\n",
       "    </tr>\n",
       "    <tr>\n",
       "      <th>453</th>\n",
       "      <td>2004</td>\n",
       "      <td>1.230000e+13</td>\n",
       "    </tr>\n",
       "    <tr>\n",
       "      <th>514</th>\n",
       "      <td>2008</td>\n",
       "      <td>1.470000e+13</td>\n",
       "    </tr>\n",
       "  </tbody>\n",
       "</table>\n",
       "</div>"
      ],
      "text/plain": [
       "     year           gdp\n",
       "28   1960  5.430000e+11\n",
       "59   1964  6.860000e+11\n",
       "90   1968  9.430000e+11\n",
       "125  1972  1.280000e+12\n",
       "152  1976  1.880000e+12\n",
       "214  1984  4.040000e+12\n",
       "252  1988  5.250000e+12\n",
       "295  1992  6.540000e+12\n",
       "346  1996  8.100000e+12\n",
       "402  2000  1.030000e+13\n",
       "453  2004  1.230000e+13\n",
       "514  2008  1.470000e+13"
      ]
     },
     "execution_count": 71,
     "metadata": {},
     "output_type": "execute_result"
    }
   ],
   "source": [
    "year = 1960\n",
    "df.loc[df.country_abv == 'USA', ['year','gdp']]"
   ]
  },
  {
   "cell_type": "code",
   "execution_count": 25,
   "metadata": {
    "collapsed": false
   },
   "outputs": [
    {
     "data": {
      "text/plain": [
       "[<matplotlib.lines.Line2D at 0x117097450>]"
      ]
     },
     "execution_count": 25,
     "metadata": {},
     "output_type": "execute_result"
    },
    {
     "data": {
      "image/png": "[encoded data removed]",
      "text/plain": [
       "<matplotlib.figure.Figure at 0x117569bd0>"
      ]
     },
     "metadata": {},
     "output_type": "display_data"
    }
   ],
   "source": [
    "italy_results = df[df.country_abv == 'ITA']\n",
    "\n",
    "plt.plot(italy_results.year, italy_results.olympic_medals)"
   ]
  }
 ],
 "metadata": {
  "kernelspec": {
   "display_name": "Python 2",
   "language": "python",
   "name": "python2"
  },
  "language_info": {
   "codemirror_mode": {
    "name": "ipython",
    "version": 2
   },
   "file_extension": ".py",
   "mimetype": "text/x-python",
   "name": "python",
   "nbconvert_exporter": "python",
   "pygments_lexer": "ipython2",
   "version": "2.7.11"
  }
 },
 "nbformat": 4,
 "nbformat_minor": 0
}
