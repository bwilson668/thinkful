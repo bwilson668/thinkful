{
 "cells": [
  {
   "cell_type": "markdown",
   "metadata": {},
   "source": [
    "# First Look at Olympic Data\n",
    "#### Ben Wilson \n",
    "##### _W: BenjaminAndrewWilson.com E: BWilson668@gmail.com_\n",
    "\n",
    "So in the _Data Exploration_ we spent the entire time pulling all the data together.\n",
    "\n",
    "I formatted it more behind the scenes to get some big picture data.\n",
    "- olympic-results.csv - This is the CSV we pulled together at the end of the previous notebook. It's all olympics, all sports, and all events.\n",
    "- total-country-olympic-medals.csv - The main features here are __Number of Olympics Competed In__, __Total Medal Count__, and __Total Medal Score__ broken out by country and olympic season.\n",
    "- total-country-sports-medals.csv - Similar to the source before but broken out by sport\n",
    "- medals-by-country-by-olympics.csv - Just like it sounds, this is list of every olympic games with the country's medal count\n",
    "- medals-by-country-by-olympics-by-sport.csv - A country's performance broken down by sport\n",
    "\n",
    "Each one of these data sources gives us a different level of detail and different insights that can be pulled out. Let's dive into each of them."
   ]
  },
  {
   "cell_type": "code",
   "execution_count": 1,
   "metadata": {
    "collapsed": false
   },
   "outputs": [
    {
     "data": {
      "text/html": [
       "<table class=\"simpletable\">\n",
       "<caption>OLS Regression Results</caption>\n",
       "<tr>\n",
       "  <th>Dep. Variable:</th>           <td>USA</td>       <th>  R-squared:         </th> <td>   0.212</td>\n",
       "</tr>\n",
       "<tr>\n",
       "  <th>Model:</th>                   <td>OLS</td>       <th>  Adj. R-squared:    </th> <td>   0.140</td>\n",
       "</tr>\n",
       "<tr>\n",
       "  <th>Method:</th>             <td>Least Squares</td>  <th>  F-statistic:       </th> <td>   2.953</td>\n",
       "</tr>\n",
       "<tr>\n",
       "  <th>Date:</th>             <td>Wed, 17 Aug 2016</td> <th>  Prob (F-statistic):</th>  <td>0.0731</td> \n",
       "</tr>\n",
       "<tr>\n",
       "  <th>Time:</th>                 <td>17:31:45</td>     <th>  Log-Likelihood:    </th> <td> -125.21</td>\n",
       "</tr>\n",
       "<tr>\n",
       "  <th>No. Observations:</th>      <td>    25</td>      <th>  AIC:               </th> <td>   256.4</td>\n",
       "</tr>\n",
       "<tr>\n",
       "  <th>Df Residuals:</th>          <td>    22</td>      <th>  BIC:               </th> <td>   260.1</td>\n",
       "</tr>\n",
       "<tr>\n",
       "  <th>Df Model:</th>              <td>     2</td>      <th>                     </th>     <td> </td>   \n",
       "</tr>\n",
       "<tr>\n",
       "  <th>Covariance Type:</th>      <td>nonrobust</td>    <th>                     </th>     <td> </td>   \n",
       "</tr>\n",
       "</table>\n",
       "<table class=\"simpletable\">\n",
       "<tr>\n",
       "        <td></td>           <th>coef</th>     <th>std err</th>      <th>t</th>      <th>P>|t|</th> <th>[95.0% Conf. Int.]</th> \n",
       "</tr>\n",
       "<tr>\n",
       "  <th>Intercept</th>     <td>   85.5748</td> <td>   24.156</td> <td>    3.543</td> <td> 0.002</td> <td>   35.479   135.671</td>\n",
       "</tr>\n",
       "<tr>\n",
       "  <th>num_of_events</th> <td>    0.2039</td> <td>    0.120</td> <td>    1.704</td> <td> 0.102</td> <td>   -0.044     0.452</td>\n",
       "</tr>\n",
       "<tr>\n",
       "  <th>USA_prev</th>      <td>   -0.3348</td> <td>    0.169</td> <td>   -1.983</td> <td> 0.060</td> <td>   -0.685     0.015</td>\n",
       "</tr>\n",
       "</table>\n",
       "<table class=\"simpletable\">\n",
       "<tr>\n",
       "  <th>Omnibus:</th>       <td>32.549</td> <th>  Durbin-Watson:     </th> <td>   2.202</td>\n",
       "</tr>\n",
       "<tr>\n",
       "  <th>Prob(Omnibus):</th> <td> 0.000</td> <th>  Jarque-Bera (JB):  </th> <td>  86.483</td>\n",
       "</tr>\n",
       "<tr>\n",
       "  <th>Skew:</th>          <td> 2.373</td> <th>  Prob(JB):          </th> <td>1.66e-19</td>\n",
       "</tr>\n",
       "<tr>\n",
       "  <th>Kurtosis:</th>      <td>10.778</td> <th>  Cond. No.          </th> <td>    628.</td>\n",
       "</tr>\n",
       "</table>"
      ],
      "text/plain": [
       "<class 'statsmodels.iolib.summary.Summary'>\n",
       "\"\"\"\n",
       "                            OLS Regression Results                            \n",
       "==============================================================================\n",
       "Dep. Variable:                    USA   R-squared:                       0.212\n",
       "Model:                            OLS   Adj. R-squared:                  0.140\n",
       "Method:                 Least Squares   F-statistic:                     2.953\n",
       "Date:                Wed, 17 Aug 2016   Prob (F-statistic):             0.0731\n",
       "Time:                        17:31:45   Log-Likelihood:                -125.21\n",
       "No. Observations:                  25   AIC:                             256.4\n",
       "Df Residuals:                      22   BIC:                             260.1\n",
       "Df Model:                           2                                         \n",
       "Covariance Type:            nonrobust                                         \n",
       "=================================================================================\n",
       "                    coef    std err          t      P>|t|      [95.0% Conf. Int.]\n",
       "---------------------------------------------------------------------------------\n",
       "Intercept        85.5748     24.156      3.543      0.002        35.479   135.671\n",
       "num_of_events     0.2039      0.120      1.704      0.102        -0.044     0.452\n",
       "USA_prev         -0.3348      0.169     -1.983      0.060        -0.685     0.015\n",
       "==============================================================================\n",
       "Omnibus:                       32.549   Durbin-Watson:                   2.202\n",
       "Prob(Omnibus):                  0.000   Jarque-Bera (JB):               86.483\n",
       "Skew:                           2.373   Prob(JB):                     1.66e-19\n",
       "Kurtosis:                      10.778   Cond. No.                         628.\n",
       "==============================================================================\n",
       "\n",
       "Warnings:\n",
       "[1] Standard Errors assume that the covariance matrix of the errors is correctly specified.\n",
       "\"\"\""
      ]
     },
     "execution_count": 1,
     "metadata": {},
     "output_type": "execute_result"
    }
   ],
   "source": [
    "import csv\n",
    "import pandas as pd\n",
    "import numpy as np\n",
    "import statsmodels.formula.api as smf\n",
    "\n",
    "def country_regression(country):\n",
    "    country_prev = country + '_prev'\n",
    "    formula = country + ' ~ num_of_events + ' + country_prev \n",
    "\n",
    "    return smf.ols(formula=formula, data=df).fit()\n",
    "\n",
    "df = pd.read_csv('data/flat-medals-by-country-by-olympics.csv', index_col=0)\n",
    "\n",
    "usa = country_regression('USA')\n",
    "usa.summary()"
   ]
  },
  {
   "cell_type": "code",
   "execution_count": 3,
   "metadata": {
    "collapsed": false
   },
   "outputs": [
    {
     "data": {
      "text/plain": [
       "<function matplotlib.pyplot.show>"
      ]
     },
     "execution_count": 3,
     "metadata": {},
     "output_type": "execute_result"
    },
    {
     "data": {
      "image/png": "[encoded data removed]",
      "text/plain": [
       "<matplotlib.figure.Figure at 0x104050b10>"
      ]
     },
     "metadata": {},
     "output_type": "display_data"
    }
   ],
   "source": [
    "%matplotlib inline\n",
    "\n",
    "import matplotlib.pyplot as plt\n",
    "\n",
    "plt.scatter(df['USA'], df['USA_prev'])\n",
    "plt.show"
   ]
  },
  {
   "cell_type": "code",
   "execution_count": 4,
   "metadata": {
    "collapsed": false
   },
   "outputs": [
    {
     "data": {
      "text/plain": [
       "<function matplotlib.pyplot.show>"
      ]
     },
     "execution_count": 4,
     "metadata": {},
     "output_type": "execute_result"
    },
    {
     "data": {
      "image/png": "[encoded data removed]",
      "text/plain": [
       "<matplotlib.figure.Figure at 0x11630f910>"
      ]
     },
     "metadata": {},
     "output_type": "display_data"
    }
   ],
   "source": [
    "plt.scatter(df['AUS'], df['AUS_prev'])\n",
    "plt.show"
   ]
  },
  {
   "cell_type": "markdown",
   "metadata": {},
   "source": [
    "Our simplest linear regression does not seem to be a strong predictor for USA. Maybe the model works better for some other countries."
   ]
  },
  {
   "cell_type": "code",
   "execution_count": 41,
   "metadata": {
    "collapsed": false
   },
   "outputs": [
    {
     "data": {
      "text/html": [
       "<table class=\"simpletable\">\n",
       "<caption>OLS Regression Results</caption>\n",
       "<tr>\n",
       "  <th>Dep. Variable:</th>           <td>AUS</td>       <th>  R-squared:         </th> <td>   0.754</td>\n",
       "</tr>\n",
       "<tr>\n",
       "  <th>Model:</th>                   <td>OLS</td>       <th>  Adj. R-squared:    </th> <td>   0.729</td>\n",
       "</tr>\n",
       "<tr>\n",
       "  <th>Method:</th>             <td>Least Squares</td>  <th>  F-statistic:       </th> <td>   30.65</td>\n",
       "</tr>\n",
       "<tr>\n",
       "  <th>Date:</th>             <td>Tue, 16 Aug 2016</td> <th>  Prob (F-statistic):</th> <td>8.11e-07</td>\n",
       "</tr>\n",
       "<tr>\n",
       "  <th>Time:</th>                 <td>21:06:49</td>     <th>  Log-Likelihood:    </th> <td> -80.630</td>\n",
       "</tr>\n",
       "<tr>\n",
       "  <th>No. Observations:</th>      <td>    23</td>      <th>  AIC:               </th> <td>   167.3</td>\n",
       "</tr>\n",
       "<tr>\n",
       "  <th>Df Residuals:</th>          <td>    20</td>      <th>  BIC:               </th> <td>   170.7</td>\n",
       "</tr>\n",
       "<tr>\n",
       "  <th>Df Model:</th>              <td>     2</td>      <th>                     </th>     <td> </td>   \n",
       "</tr>\n",
       "<tr>\n",
       "  <th>Covariance Type:</th>      <td>nonrobust</td>    <th>                     </th>     <td> </td>   \n",
       "</tr>\n",
       "</table>\n",
       "<table class=\"simpletable\">\n",
       "<tr>\n",
       "        <td></td>           <th>coef</th>     <th>std err</th>      <th>t</th>      <th>P>|t|</th> <th>[95.0% Conf. Int.]</th> \n",
       "</tr>\n",
       "<tr>\n",
       "  <th>Intercept</th>     <td>   -9.7858</td> <td>    6.386</td> <td>   -1.532</td> <td> 0.141</td> <td>  -23.106     3.534</td>\n",
       "</tr>\n",
       "<tr>\n",
       "  <th>num_of_events</th> <td>    0.1145</td> <td>    0.045</td> <td>    2.527</td> <td> 0.020</td> <td>    0.020     0.209</td>\n",
       "</tr>\n",
       "<tr>\n",
       "  <th>AUS_prev</th>      <td>    0.4883</td> <td>    0.180</td> <td>    2.714</td> <td> 0.013</td> <td>    0.113     0.864</td>\n",
       "</tr>\n",
       "</table>\n",
       "<table class=\"simpletable\">\n",
       "<tr>\n",
       "  <th>Omnibus:</th>       <td> 6.367</td> <th>  Durbin-Watson:     </th> <td>   2.010</td>\n",
       "</tr>\n",
       "<tr>\n",
       "  <th>Prob(Omnibus):</th> <td> 0.041</td> <th>  Jarque-Bera (JB):  </th> <td>   4.259</td>\n",
       "</tr>\n",
       "<tr>\n",
       "  <th>Skew:</th>          <td> 0.763</td> <th>  Prob(JB):          </th> <td>   0.119</td>\n",
       "</tr>\n",
       "<tr>\n",
       "  <th>Kurtosis:</th>      <td> 4.455</td> <th>  Cond. No.          </th> <td>    679.</td>\n",
       "</tr>\n",
       "</table>"
      ],
      "text/plain": [
       "<class 'statsmodels.iolib.summary.Summary'>\n",
       "\"\"\"\n",
       "                            OLS Regression Results                            \n",
       "==============================================================================\n",
       "Dep. Variable:                    AUS   R-squared:                       0.754\n",
       "Model:                            OLS   Adj. R-squared:                  0.729\n",
       "Method:                 Least Squares   F-statistic:                     30.65\n",
       "Date:                Tue, 16 Aug 2016   Prob (F-statistic):           8.11e-07\n",
       "Time:                        21:06:49   Log-Likelihood:                -80.630\n",
       "No. Observations:                  23   AIC:                             167.3\n",
       "Df Residuals:                      20   BIC:                             170.7\n",
       "Df Model:                           2                                         \n",
       "Covariance Type:            nonrobust                                         \n",
       "=================================================================================\n",
       "                    coef    std err          t      P>|t|      [95.0% Conf. Int.]\n",
       "---------------------------------------------------------------------------------\n",
       "Intercept        -9.7858      6.386     -1.532      0.141       -23.106     3.534\n",
       "num_of_events     0.1145      0.045      2.527      0.020         0.020     0.209\n",
       "AUS_prev          0.4883      0.180      2.714      0.013         0.113     0.864\n",
       "==============================================================================\n",
       "Omnibus:                        6.367   Durbin-Watson:                   2.010\n",
       "Prob(Omnibus):                  0.041   Jarque-Bera (JB):                4.259\n",
       "Skew:                           0.763   Prob(JB):                        0.119\n",
       "Kurtosis:                       4.455   Cond. No.                         679.\n",
       "==============================================================================\n",
       "\n",
       "Warnings:\n",
       "[1] Standard Errors assume that the covariance matrix of the errors is correctly specified.\n",
       "\"\"\""
      ]
     },
     "execution_count": 41,
     "metadata": {},
     "output_type": "execute_result"
    }
   ],
   "source": [
    "# Australia\n",
    "aus = country_regression('AUS')\n",
    "aus.summary()"
   ]
  },
  {
   "cell_type": "markdown",
   "metadata": {},
   "source": [
    "This works really well for Australia! Australia has the 10th most medals for the summer games."
   ]
  },
  {
   "cell_type": "code",
   "execution_count": 42,
   "metadata": {
    "collapsed": false
   },
   "outputs": [
    {
     "data": {
      "text/html": [
       "<table class=\"simpletable\">\n",
       "<caption>OLS Regression Results</caption>\n",
       "<tr>\n",
       "  <th>Dep. Variable:</th>           <td>GBR</td>       <th>  R-squared:         </th> <td>   0.027</td>\n",
       "</tr>\n",
       "<tr>\n",
       "  <th>Model:</th>                   <td>OLS</td>       <th>  Adj. R-squared:    </th> <td>  -0.057</td>\n",
       "</tr>\n",
       "<tr>\n",
       "  <th>Method:</th>             <td>Least Squares</td>  <th>  F-statistic:       </th> <td>  0.3214</td>\n",
       "</tr>\n",
       "<tr>\n",
       "  <th>Date:</th>             <td>Tue, 16 Aug 2016</td> <th>  Prob (F-statistic):</th>  <td> 0.728</td> \n",
       "</tr>\n",
       "<tr>\n",
       "  <th>Time:</th>                 <td>21:09:38</td>     <th>  Log-Likelihood:    </th> <td> -119.32</td>\n",
       "</tr>\n",
       "<tr>\n",
       "  <th>No. Observations:</th>      <td>    26</td>      <th>  AIC:               </th> <td>   244.6</td>\n",
       "</tr>\n",
       "<tr>\n",
       "  <th>Df Residuals:</th>          <td>    23</td>      <th>  BIC:               </th> <td>   248.4</td>\n",
       "</tr>\n",
       "<tr>\n",
       "  <th>Df Model:</th>              <td>     2</td>      <th>                     </th>     <td> </td>   \n",
       "</tr>\n",
       "<tr>\n",
       "  <th>Covariance Type:</th>      <td>nonrobust</td>    <th>                     </th>     <td> </td>   \n",
       "</tr>\n",
       "</table>\n",
       "<table class=\"simpletable\">\n",
       "<tr>\n",
       "        <td></td>           <th>coef</th>     <th>std err</th>      <th>t</th>      <th>P>|t|</th> <th>[95.0% Conf. Int.]</th> \n",
       "</tr>\n",
       "<tr>\n",
       "  <th>Intercept</th>     <td>   30.4260</td> <td>   15.931</td> <td>    1.910</td> <td> 0.069</td> <td>   -2.529    63.381</td>\n",
       "</tr>\n",
       "<tr>\n",
       "  <th>num_of_events</th> <td>   -0.0330</td> <td>    0.078</td> <td>   -0.423</td> <td> 0.676</td> <td>   -0.194     0.128</td>\n",
       "</tr>\n",
       "<tr>\n",
       "  <th>GBR_prev</th>      <td>    0.1274</td> <td>    0.207</td> <td>    0.615</td> <td> 0.545</td> <td>   -0.301     0.556</td>\n",
       "</tr>\n",
       "</table>\n",
       "<table class=\"simpletable\">\n",
       "<tr>\n",
       "  <th>Omnibus:</th>       <td>47.430</td> <th>  Durbin-Watson:     </th> <td>   1.950</td>\n",
       "</tr>\n",
       "<tr>\n",
       "  <th>Prob(Omnibus):</th> <td> 0.000</td> <th>  Jarque-Bera (JB):  </th> <td> 228.095</td>\n",
       "</tr>\n",
       "<tr>\n",
       "  <th>Skew:</th>          <td> 3.394</td> <th>  Prob(JB):          </th> <td>2.95e-50</td>\n",
       "</tr>\n",
       "<tr>\n",
       "  <th>Kurtosis:</th>      <td>15.825</td> <th>  Cond. No.          </th> <td>    591.</td>\n",
       "</tr>\n",
       "</table>"
      ],
      "text/plain": [
       "<class 'statsmodels.iolib.summary.Summary'>\n",
       "\"\"\"\n",
       "                            OLS Regression Results                            \n",
       "==============================================================================\n",
       "Dep. Variable:                    GBR   R-squared:                       0.027\n",
       "Model:                            OLS   Adj. R-squared:                 -0.057\n",
       "Method:                 Least Squares   F-statistic:                    0.3214\n",
       "Date:                Tue, 16 Aug 2016   Prob (F-statistic):              0.728\n",
       "Time:                        21:09:38   Log-Likelihood:                -119.32\n",
       "No. Observations:                  26   AIC:                             244.6\n",
       "Df Residuals:                      23   BIC:                             248.4\n",
       "Df Model:                           2                                         \n",
       "Covariance Type:            nonrobust                                         \n",
       "=================================================================================\n",
       "                    coef    std err          t      P>|t|      [95.0% Conf. Int.]\n",
       "---------------------------------------------------------------------------------\n",
       "Intercept        30.4260     15.931      1.910      0.069        -2.529    63.381\n",
       "num_of_events    -0.0330      0.078     -0.423      0.676        -0.194     0.128\n",
       "GBR_prev          0.1274      0.207      0.615      0.545        -0.301     0.556\n",
       "==============================================================================\n",
       "Omnibus:                       47.430   Durbin-Watson:                   1.950\n",
       "Prob(Omnibus):                  0.000   Jarque-Bera (JB):              228.095\n",
       "Skew:                           3.394   Prob(JB):                     2.95e-50\n",
       "Kurtosis:                      15.825   Cond. No.                         591.\n",
       "==============================================================================\n",
       "\n",
       "Warnings:\n",
       "[1] Standard Errors assume that the covariance matrix of the errors is correctly specified.\n",
       "\"\"\""
      ]
     },
     "execution_count": 42,
     "metadata": {},
     "output_type": "execute_result"
    }
   ],
   "source": [
    "# Great Britain\n",
    "gbr = country_regression('GBR')\n",
    "gbr.summary()"
   ]
  },
  {
   "cell_type": "markdown",
   "metadata": {},
   "source": [
    "The same model performs even worse for the Great Britain. They have the 3rd most medals."
   ]
  },
  {
   "cell_type": "code",
   "execution_count": 43,
   "metadata": {
    "collapsed": false
   },
   "outputs": [
    {
     "name": "stderr",
     "output_type": "stream",
     "text": [
      "/Applications/anaconda/lib/python2.7/site-packages/statsmodels/stats/stattools.py:72: UserWarning: omni_normtest is not valid with less than 8 observations; 7 samples were given.\n",
      "  \"samples were given.\" % int(n))\n"
     ]
    },
    {
     "data": {
      "text/html": [
       "<table class=\"simpletable\">\n",
       "<caption>OLS Regression Results</caption>\n",
       "<tr>\n",
       "  <th>Dep. Variable:</th>           <td>CHN</td>       <th>  R-squared:         </th> <td>   0.618</td>\n",
       "</tr>\n",
       "<tr>\n",
       "  <th>Model:</th>                   <td>OLS</td>       <th>  Adj. R-squared:    </th> <td>   0.427</td>\n",
       "</tr>\n",
       "<tr>\n",
       "  <th>Method:</th>             <td>Least Squares</td>  <th>  F-statistic:       </th> <td>   3.238</td>\n",
       "</tr>\n",
       "<tr>\n",
       "  <th>Date:</th>             <td>Tue, 16 Aug 2016</td> <th>  Prob (F-statistic):</th>  <td> 0.146</td> \n",
       "</tr>\n",
       "<tr>\n",
       "  <th>Time:</th>                 <td>21:11:51</td>     <th>  Log-Likelihood:    </th> <td> -27.662</td>\n",
       "</tr>\n",
       "<tr>\n",
       "  <th>No. Observations:</th>      <td>     7</td>      <th>  AIC:               </th> <td>   61.32</td>\n",
       "</tr>\n",
       "<tr>\n",
       "  <th>Df Residuals:</th>          <td>     4</td>      <th>  BIC:               </th> <td>   61.16</td>\n",
       "</tr>\n",
       "<tr>\n",
       "  <th>Df Model:</th>              <td>     2</td>      <th>                     </th>     <td> </td>   \n",
       "</tr>\n",
       "<tr>\n",
       "  <th>Covariance Type:</th>      <td>nonrobust</td>    <th>                     </th>     <td> </td>   \n",
       "</tr>\n",
       "</table>\n",
       "<table class=\"simpletable\">\n",
       "<tr>\n",
       "        <td></td>           <th>coef</th>     <th>std err</th>      <th>t</th>      <th>P>|t|</th> <th>[95.0% Conf. Int.]</th> \n",
       "</tr>\n",
       "<tr>\n",
       "  <th>Intercept</th>     <td>  -90.1564</td> <td>  101.178</td> <td>   -0.891</td> <td> 0.423</td> <td> -371.073   190.760</td>\n",
       "</tr>\n",
       "<tr>\n",
       "  <th>num_of_events</th> <td>    0.5369</td> <td>    0.473</td> <td>    1.136</td> <td> 0.319</td> <td>   -0.775     1.849</td>\n",
       "</tr>\n",
       "<tr>\n",
       "  <th>CHN_prev</th>      <td>    0.0425</td> <td>    0.697</td> <td>    0.061</td> <td> 0.954</td> <td>   -1.894     1.979</td>\n",
       "</tr>\n",
       "</table>\n",
       "<table class=\"simpletable\">\n",
       "<tr>\n",
       "  <th>Omnibus:</th>       <td>   nan</td> <th>  Durbin-Watson:     </th> <td>   1.691</td>\n",
       "</tr>\n",
       "<tr>\n",
       "  <th>Prob(Omnibus):</th> <td>   nan</td> <th>  Jarque-Bera (JB):  </th> <td>   0.907</td>\n",
       "</tr>\n",
       "<tr>\n",
       "  <th>Skew:</th>          <td> 0.867</td> <th>  Prob(JB):          </th> <td>   0.635</td>\n",
       "</tr>\n",
       "<tr>\n",
       "  <th>Kurtosis:</th>      <td> 2.684</td> <th>  Cond. No.          </th> <td>4.30e+03</td>\n",
       "</tr>\n",
       "</table>"
      ],
      "text/plain": [
       "<class 'statsmodels.iolib.summary.Summary'>\n",
       "\"\"\"\n",
       "                            OLS Regression Results                            \n",
       "==============================================================================\n",
       "Dep. Variable:                    CHN   R-squared:                       0.618\n",
       "Model:                            OLS   Adj. R-squared:                  0.427\n",
       "Method:                 Least Squares   F-statistic:                     3.238\n",
       "Date:                Tue, 16 Aug 2016   Prob (F-statistic):              0.146\n",
       "Time:                        21:11:51   Log-Likelihood:                -27.662\n",
       "No. Observations:                   7   AIC:                             61.32\n",
       "Df Residuals:                       4   BIC:                             61.16\n",
       "Df Model:                           2                                         \n",
       "Covariance Type:            nonrobust                                         \n",
       "=================================================================================\n",
       "                    coef    std err          t      P>|t|      [95.0% Conf. Int.]\n",
       "---------------------------------------------------------------------------------\n",
       "Intercept       -90.1564    101.178     -0.891      0.423      -371.073   190.760\n",
       "num_of_events     0.5369      0.473      1.136      0.319        -0.775     1.849\n",
       "CHN_prev          0.0425      0.697      0.061      0.954        -1.894     1.979\n",
       "==============================================================================\n",
       "Omnibus:                          nan   Durbin-Watson:                   1.691\n",
       "Prob(Omnibus):                    nan   Jarque-Bera (JB):                0.907\n",
       "Skew:                           0.867   Prob(JB):                        0.635\n",
       "Kurtosis:                       2.684   Cond. No.                     4.30e+03\n",
       "==============================================================================\n",
       "\n",
       "Warnings:\n",
       "[1] Standard Errors assume that the covariance matrix of the errors is correctly specified.\n",
       "[2] The condition number is large, 4.3e+03. This might indicate that there are\n",
       "strong multicollinearity or other numerical problems.\n",
       "\"\"\""
      ]
     },
     "execution_count": 43,
     "metadata": {},
     "output_type": "execute_result"
    }
   ],
   "source": [
    "# China\n",
    "chn = country_regression('CHN')\n",
    "chn.summary()"
   ]
  },
  {
   "cell_type": "markdown",
   "metadata": {},
   "source": [
    "This is interesting. The model cannot even make sense of China. China has only competed in 7 summer olympics, but has already jumped to 8th most medals."
   ]
  },
  {
   "cell_type": "code",
   "execution_count": 47,
   "metadata": {
    "collapsed": false
   },
   "outputs": [
    {
     "data": {
      "text/html": [
       "<table class=\"simpletable\">\n",
       "<caption>OLS Regression Results</caption>\n",
       "<tr>\n",
       "  <th>Dep. Variable:</th>           <td>FIN</td>       <th>  R-squared:         </th> <td>   0.704</td>\n",
       "</tr>\n",
       "<tr>\n",
       "  <th>Model:</th>                   <td>OLS</td>       <th>  Adj. R-squared:    </th> <td>   0.676</td>\n",
       "</tr>\n",
       "<tr>\n",
       "  <th>Method:</th>             <td>Least Squares</td>  <th>  F-statistic:       </th> <td>   25.01</td>\n",
       "</tr>\n",
       "<tr>\n",
       "  <th>Date:</th>             <td>Tue, 16 Aug 2016</td> <th>  Prob (F-statistic):</th> <td>2.78e-06</td>\n",
       "</tr>\n",
       "<tr>\n",
       "  <th>Time:</th>                 <td>21:20:47</td>     <th>  Log-Likelihood:    </th> <td> -75.696</td>\n",
       "</tr>\n",
       "<tr>\n",
       "  <th>No. Observations:</th>      <td>    24</td>      <th>  AIC:               </th> <td>   157.4</td>\n",
       "</tr>\n",
       "<tr>\n",
       "  <th>Df Residuals:</th>          <td>    21</td>      <th>  BIC:               </th> <td>   160.9</td>\n",
       "</tr>\n",
       "<tr>\n",
       "  <th>Df Model:</th>              <td>     2</td>      <th>                     </th>     <td> </td>   \n",
       "</tr>\n",
       "<tr>\n",
       "  <th>Covariance Type:</th>      <td>nonrobust</td>    <th>                     </th>     <td> </td>   \n",
       "</tr>\n",
       "</table>\n",
       "<table class=\"simpletable\">\n",
       "<tr>\n",
       "        <td></td>           <th>coef</th>     <th>std err</th>      <th>t</th>      <th>P>|t|</th> <th>[95.0% Conf. Int.]</th> \n",
       "</tr>\n",
       "<tr>\n",
       "  <th>Intercept</th>     <td>    9.8215</td> <td>    5.077</td> <td>    1.934</td> <td> 0.067</td> <td>   -0.737    20.380</td>\n",
       "</tr>\n",
       "<tr>\n",
       "  <th>num_of_events</th> <td>   -0.0341</td> <td>    0.022</td> <td>   -1.537</td> <td> 0.139</td> <td>   -0.080     0.012</td>\n",
       "</tr>\n",
       "<tr>\n",
       "  <th>FIN_prev</th>      <td>    0.7127</td> <td>    0.132</td> <td>    5.413</td> <td> 0.000</td> <td>    0.439     0.987</td>\n",
       "</tr>\n",
       "</table>\n",
       "<table class=\"simpletable\">\n",
       "<tr>\n",
       "  <th>Omnibus:</th>       <td> 6.199</td> <th>  Durbin-Watson:     </th> <td>   1.572</td>\n",
       "</tr>\n",
       "<tr>\n",
       "  <th>Prob(Omnibus):</th> <td> 0.045</td> <th>  Jarque-Bera (JB):  </th> <td>   4.064</td>\n",
       "</tr>\n",
       "<tr>\n",
       "  <th>Skew:</th>          <td> 0.831</td> <th>  Prob(JB):          </th> <td>   0.131</td>\n",
       "</tr>\n",
       "<tr>\n",
       "  <th>Kurtosis:</th>      <td> 4.141</td> <th>  Cond. No.          </th> <td>    773.</td>\n",
       "</tr>\n",
       "</table>"
      ],
      "text/plain": [
       "<class 'statsmodels.iolib.summary.Summary'>\n",
       "\"\"\"\n",
       "                            OLS Regression Results                            \n",
       "==============================================================================\n",
       "Dep. Variable:                    FIN   R-squared:                       0.704\n",
       "Model:                            OLS   Adj. R-squared:                  0.676\n",
       "Method:                 Least Squares   F-statistic:                     25.01\n",
       "Date:                Tue, 16 Aug 2016   Prob (F-statistic):           2.78e-06\n",
       "Time:                        21:20:47   Log-Likelihood:                -75.696\n",
       "No. Observations:                  24   AIC:                             157.4\n",
       "Df Residuals:                      21   BIC:                             160.9\n",
       "Df Model:                           2                                         \n",
       "Covariance Type:            nonrobust                                         \n",
       "=================================================================================\n",
       "                    coef    std err          t      P>|t|      [95.0% Conf. Int.]\n",
       "---------------------------------------------------------------------------------\n",
       "Intercept         9.8215      5.077      1.934      0.067        -0.737    20.380\n",
       "num_of_events    -0.0341      0.022     -1.537      0.139        -0.080     0.012\n",
       "FIN_prev          0.7127      0.132      5.413      0.000         0.439     0.987\n",
       "==============================================================================\n",
       "Omnibus:                        6.199   Durbin-Watson:                   1.572\n",
       "Prob(Omnibus):                  0.045   Jarque-Bera (JB):                4.064\n",
       "Skew:                           0.831   Prob(JB):                        0.131\n",
       "Kurtosis:                       4.141   Cond. No.                         773.\n",
       "==============================================================================\n",
       "\n",
       "Warnings:\n",
       "[1] Standard Errors assume that the covariance matrix of the errors is correctly specified.\n",
       "\"\"\""
      ]
     },
     "execution_count": 47,
     "metadata": {},
     "output_type": "execute_result"
    }
   ],
   "source": [
    "# Finland\n",
    "fin = country_regression('FIN')\n",
    "fin.summary()"
   ]
  },
  {
   "cell_type": "markdown",
   "metadata": {},
   "source": [
    "Finland looks to perform better than most countries with this model."
   ]
  },
  {
   "cell_type": "code",
   "execution_count": 48,
   "metadata": {
    "collapsed": false
   },
   "outputs": [
    {
     "data": {
      "text/html": [
       "<table class=\"simpletable\">\n",
       "<caption>OLS Regression Results</caption>\n",
       "<tr>\n",
       "  <th>Dep. Variable:</th>           <td>FRA</td>       <th>  R-squared:         </th> <td>   0.005</td>\n",
       "</tr>\n",
       "<tr>\n",
       "  <th>Model:</th>                   <td>OLS</td>       <th>  Adj. R-squared:    </th> <td>  -0.085</td>\n",
       "</tr>\n",
       "<tr>\n",
       "  <th>Method:</th>             <td>Least Squares</td>  <th>  F-statistic:       </th> <td> 0.05674</td>\n",
       "</tr>\n",
       "<tr>\n",
       "  <th>Date:</th>             <td>Tue, 16 Aug 2016</td> <th>  Prob (F-statistic):</th>  <td> 0.945</td> \n",
       "</tr>\n",
       "<tr>\n",
       "  <th>Time:</th>                 <td>21:21:33</td>     <th>  Log-Likelihood:    </th> <td> -110.33</td>\n",
       "</tr>\n",
       "<tr>\n",
       "  <th>No. Observations:</th>      <td>    25</td>      <th>  AIC:               </th> <td>   226.7</td>\n",
       "</tr>\n",
       "<tr>\n",
       "  <th>Df Residuals:</th>          <td>    22</td>      <th>  BIC:               </th> <td>   230.3</td>\n",
       "</tr>\n",
       "<tr>\n",
       "  <th>Df Model:</th>              <td>     2</td>      <th>                     </th>     <td> </td>   \n",
       "</tr>\n",
       "<tr>\n",
       "  <th>Covariance Type:</th>      <td>nonrobust</td>    <th>                     </th>     <td> </td>   \n",
       "</tr>\n",
       "</table>\n",
       "<table class=\"simpletable\">\n",
       "<tr>\n",
       "        <td></td>           <th>coef</th>     <th>std err</th>      <th>t</th>      <th>P>|t|</th> <th>[95.0% Conf. Int.]</th> \n",
       "</tr>\n",
       "<tr>\n",
       "  <th>Intercept</th>     <td>   30.4092</td> <td>   13.365</td> <td>    2.275</td> <td> 0.033</td> <td>    2.692    58.127</td>\n",
       "</tr>\n",
       "<tr>\n",
       "  <th>num_of_events</th> <td>   -0.0234</td> <td>    0.070</td> <td>   -0.335</td> <td> 0.741</td> <td>   -0.168     0.121</td>\n",
       "</tr>\n",
       "<tr>\n",
       "  <th>FRA_prev</th>      <td>    0.0483</td> <td>    0.387</td> <td>    0.125</td> <td> 0.902</td> <td>   -0.754     0.851</td>\n",
       "</tr>\n",
       "</table>\n",
       "<table class=\"simpletable\">\n",
       "<tr>\n",
       "  <th>Omnibus:</th>       <td>34.822</td> <th>  Durbin-Watson:     </th> <td>   0.770</td>\n",
       "</tr>\n",
       "<tr>\n",
       "  <th>Prob(Omnibus):</th> <td> 0.000</td> <th>  Jarque-Bera (JB):  </th> <td>  96.421</td>\n",
       "</tr>\n",
       "<tr>\n",
       "  <th>Skew:</th>          <td> 2.575</td> <th>  Prob(JB):          </th> <td>1.15e-21</td>\n",
       "</tr>\n",
       "<tr>\n",
       "  <th>Kurtosis:</th>      <td>11.127</td> <th>  Cond. No.          </th> <td>    585.</td>\n",
       "</tr>\n",
       "</table>"
      ],
      "text/plain": [
       "<class 'statsmodels.iolib.summary.Summary'>\n",
       "\"\"\"\n",
       "                            OLS Regression Results                            \n",
       "==============================================================================\n",
       "Dep. Variable:                    FRA   R-squared:                       0.005\n",
       "Model:                            OLS   Adj. R-squared:                 -0.085\n",
       "Method:                 Least Squares   F-statistic:                   0.05674\n",
       "Date:                Tue, 16 Aug 2016   Prob (F-statistic):              0.945\n",
       "Time:                        21:21:33   Log-Likelihood:                -110.33\n",
       "No. Observations:                  25   AIC:                             226.7\n",
       "Df Residuals:                      22   BIC:                             230.3\n",
       "Df Model:                           2                                         \n",
       "Covariance Type:            nonrobust                                         \n",
       "=================================================================================\n",
       "                    coef    std err          t      P>|t|      [95.0% Conf. Int.]\n",
       "---------------------------------------------------------------------------------\n",
       "Intercept        30.4092     13.365      2.275      0.033         2.692    58.127\n",
       "num_of_events    -0.0234      0.070     -0.335      0.741        -0.168     0.121\n",
       "FRA_prev          0.0483      0.387      0.125      0.902        -0.754     0.851\n",
       "==============================================================================\n",
       "Omnibus:                       34.822   Durbin-Watson:                   0.770\n",
       "Prob(Omnibus):                  0.000   Jarque-Bera (JB):               96.421\n",
       "Skew:                           2.575   Prob(JB):                     1.15e-21\n",
       "Kurtosis:                      11.127   Cond. No.                         585.\n",
       "==============================================================================\n",
       "\n",
       "Warnings:\n",
       "[1] Standard Errors assume that the covariance matrix of the errors is correctly specified.\n",
       "\"\"\""
      ]
     },
     "execution_count": 48,
     "metadata": {},
     "output_type": "execute_result"
    }
   ],
   "source": [
    "# France\n",
    "fra = country_regression('FRA')\n",
    "fra.summary()"
   ]
  },
  {
   "cell_type": "markdown",
   "metadata": {},
   "source": [
    "France is all over the place like Great Britain."
   ]
  }
 ],
 "metadata": {
  "kernelspec": {
   "display_name": "Python 2",
   "language": "python",
   "name": "python2"
  },
  "language_info": {
   "codemirror_mode": {
    "name": "ipython",
    "version": 2
   },
   "file_extension": ".py",
   "mimetype": "text/x-python",
   "name": "python",
   "nbconvert_exporter": "python",
   "pygments_lexer": "ipython2",
   "version": "2.7.11"
  }
 },
 "nbformat": 4,
 "nbformat_minor": 0
}
