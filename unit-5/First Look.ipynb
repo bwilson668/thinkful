{
 "cells": [
  {
   "cell_type": "markdown",
   "metadata": {},
   "source": [
    "# First Look at Olympic Data\n",
    "#### Ben Wilson \n",
    "##### _W: BenjaminAndrewWilson.com E: BWilson668@gmail.com_\n",
    "\n",
    "So in the _Data Exploration_ we spent the entire time pulling all the data together.\n",
    "\n",
    "I formatted it more behind the scenes to get some big picture data.\n",
    "- olympic-results.csv - This is the CSV we pulled together at the end of the previous notebook. It's all olympics, all sports, and all events.\n",
    "- total-country-olympic-medals.csv - The main features here are __Number of Olympics Competed In__, __Total Medal Count__, and __Total Medal Score__ broken out by country and olympic season.\n",
    "- total-country-sports-medals.csv - Similar to the source before but broken out by sport\n",
    "- medals-by-country-by-olympics.csv - Just like it sounds, this is list of every olympic games with the country's medal count\n",
    "- medals-by-country-by-olympics-by-sport.csv - A country's performance broken down by sport\n",
    "\n",
    "Each one of these data sources gives us a different level of detail and different insights that can be pulled out. Let's dive into each of them."
   ]
  },
  {
   "cell_type": "code",
   "execution_count": 18,
   "metadata": {
    "collapsed": false
   },
   "outputs": [
    {
     "name": "stdout",
     "output_type": "stream",
     "text": [
      "164    Track & Field\n",
      "Name: sport, dtype: object\n",
      "164    Track & Field\n",
      "Name: sport, dtype: object\n"
     ]
    }
   ],
   "source": [
    "import csv\n",
    "import pandas\n",
    "\n",
    "country_sport = pandas.read_csv('data/total-country-sports-medals.csv')\n",
    "\n",
    "summer_country_sport = country_sport[country_sport['season'] == 'Summer']\n",
    "\n",
    "usa_summer_country_sport = summer_country_sport[summer_country_sport['country'] == 'USA']\n",
    "\n",
    "usa_max_score = usa_summer_country_sport.max()['total_sport_medals_score']\n",
    "print usa_summer_country_sport[usa_summer_country_sport['total_sport_medals_score'] == usa_max_score]['sport']\n",
    "\n",
    "usa_max_count = usa_summer_country_sport.max()['total_sport_medals_count']\n",
    "print usa_summer_country_sport[usa_summer_country_sport['total_sport_medals_count'] == usa_max_count]['sport']"
   ]
  },
  {
   "cell_type": "code",
   "execution_count": 25,
   "metadata": {
    "collapsed": false
   },
   "outputs": [
    {
     "ename": "AttributeError",
     "evalue": "'tuple' object has no attribute 'max'",
     "output_type": "error",
     "traceback": [
      "\u001b[0;31m---------------------------------------------------------------------------\u001b[0m",
      "\u001b[0;31mAttributeError\u001b[0m                            Traceback (most recent call last)",
      "\u001b[0;32m<ipython-input-25-e7fb5eeb2f74>\u001b[0m in \u001b[0;36m<module>\u001b[0;34m()\u001b[0m\n\u001b[1;32m      4\u001b[0m \u001b[0;34m\u001b[0m\u001b[0m\n\u001b[1;32m      5\u001b[0m \u001b[0;32mfor\u001b[0m \u001b[0molympic\u001b[0m \u001b[0;32min\u001b[0m \u001b[0ms_olympic_country\u001b[0m\u001b[0;34m.\u001b[0m\u001b[0miterrows\u001b[0m\u001b[0;34m(\u001b[0m\u001b[0;34m)\u001b[0m\u001b[0;34m:\u001b[0m\u001b[0;34m\u001b[0m\u001b[0m\n\u001b[0;32m----> 6\u001b[0;31m     \u001b[0molympic_winner\u001b[0m \u001b[0;34m=\u001b[0m \u001b[0molympic\u001b[0m\u001b[0;34m.\u001b[0m\u001b[0mmax\u001b[0m\u001b[0;34m(\u001b[0m\u001b[0;34m)\u001b[0m\u001b[0;34m[\u001b[0m\u001b[0;34m'olympic_medals'\u001b[0m\u001b[0;34m]\u001b[0m\u001b[0;34m\u001b[0m\u001b[0m\n\u001b[0m\u001b[1;32m      7\u001b[0m     \u001b[0;32mprint\u001b[0m \u001b[0molympic\u001b[0m\u001b[0;34m[\u001b[0m\u001b[0molympic\u001b[0m\u001b[0;34m[\u001b[0m\u001b[0;34m'olympic_medals'\u001b[0m\u001b[0;34m]\u001b[0m \u001b[0;34m==\u001b[0m \u001b[0molympic_winner\u001b[0m\u001b[0;34m]\u001b[0m\u001b[0;34m\u001b[0m\u001b[0m\n",
      "\u001b[0;31mAttributeError\u001b[0m: 'tuple' object has no attribute 'max'"
     ]
    }
   ],
   "source": [
    "olympic_country = pandas.read_csv('data/medals-by-country-by-olympics.csv')\n",
    "\n",
    "s_olympic_country = olympic_country[olympic_country['season'] == 'Summer']\n",
    "\n",
    "for olympic in s_olympic_country.iterrows():\n",
    "    olympic_winner = olympic.max()['olympic_medals']\n",
    "    print olympic[olympic['olympic_medals'] == olympic_winner]"
   ]
  },
  {
   "cell_type": "code",
   "execution_count": null,
   "metadata": {
    "collapsed": true
   },
   "outputs": [],
   "source": [
    "import csv\n",
    "import pandas as pd\n",
    "\n",
    "df = pd.read_csv('data/flat-medals-by-country-by-olympics')\n"
   ]
  }
 ],
 "metadata": {
  "kernelspec": {
   "display_name": "Python 2",
   "language": "python",
   "name": "python2"
  },
  "language_info": {
   "codemirror_mode": {
    "name": "ipython",
    "version": 2
   },
   "file_extension": ".py",
   "mimetype": "text/x-python",
   "name": "python",
   "nbconvert_exporter": "python",
   "pygments_lexer": "ipython2",
   "version": "2.7.11"
  }
 },
 "nbformat": 4,
 "nbformat_minor": 0
}
