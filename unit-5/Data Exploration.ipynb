{
 "cells": [
  {
   "cell_type": "markdown",
   "metadata": {},
   "source": [
    "# Olympic Webscraping and Data Exploration\n",
    "#### Ben Wilson\n",
    "\n",
    "I'll be attempting to scrape the [Database Olympics](www.databaseolympics.com) site to speed up my data collection process. Once that data is cleaned, I'll load it into a local SQLite DB. From there we can explore a few basic metrics and make our first simple model."
   ]
  },
  {
   "cell_type": "code",
   "execution_count": 1,
   "metadata": {
    "collapsed": false
   },
   "outputs": [
    {
     "name": "stderr",
     "output_type": "stream",
     "text": [
      "/Applications/anaconda/lib/python2.7/site-packages/bs4/__init__.py:166: UserWarning: No parser was explicitly specified, so I'm using the best available HTML parser for this system (\"lxml\"). This usually isn't a problem, but if you run this code on another system, or in a different virtual environment, it may use a different parser and behave differently.\n",
      "\n",
      "To get rid of this warning, change this:\n",
      "\n",
      " BeautifulSoup([your markup])\n",
      "\n",
      "to this:\n",
      "\n",
      " BeautifulSoup([your markup], \"lxml\")\n",
      "\n",
      "  markup_type=markup_type))\n"
     ]
    }
   ],
   "source": [
    "from bs4 import BeautifulSoup\n",
    "import requests\n",
    "\n",
    "url = 'http://www.databaseolympics.com/games/gamessport.htm?g=47&sp=BAD'\n",
    "raw_data = requests.get(url)\n",
    "soup_data = BeautifulSoup(raw_data.content)\n",
    "raw_table = soup_data('table')[2]"
   ]
  },
  {
   "cell_type": "markdown",
   "metadata": {},
   "source": [
    "Great! We have the table we want.\n",
    "\n",
    "I should also point out that the url had two HTTP query variables\n",
    "- __g=47__: the G stands for the game, which Olympics it is.\n",
    "- __sp=BAD__: SP is Sport. Then you have to give a sport abbreviation. In this case it was BAD for Badmitton.\n",
    "\n",
    "Now let's get that table parsed into a dataframe"
   ]
  },
  {
   "cell_type": "code",
   "execution_count": 2,
   "metadata": {
    "collapsed": false
   },
   "outputs": [
    {
     "name": "stdout",
     "output_type": "stream",
     "text": [
      "              Event                Athlete Country Result   Medal Sport  Game\n",
      "0     Men's Singles                Lin Dan     CHN           GOLD   BAD    47\n",
      "1     Men's Singles           Lee ChongWei     MAS         SILVER   BAD    47\n",
      "2     Men's Singles               Chen Jin     CHN         BRONZE   BAD    47\n",
      "3     Men's Doubles            Markis Kido     INA           GOLD   BAD    47\n",
      "4     Men's Doubles        Hendra Setiawan     INA           GOLD   BAD    47\n",
      "5     Men's Doubles             Fu Haifeng     CHN         SILVER   BAD    47\n",
      "6     Men's Doubles                Cai Yun     CHN         SILVER   BAD    47\n",
      "7     Men's Doubles             Lee Jaejin     KOR         BRONZE   BAD    47\n",
      "8     Men's Doubles            Hwang Jiman     KOR         BRONZE   BAD    47\n",
      "9   Women's Singles             Zhang Ning     CHN           GOLD   BAD    47\n",
      "10  Women's Singles           Xie Xingfang     CHN         SILVER   BAD    47\n",
      "11  Women's Singles  Maria KristinYulianti     INA         BRONZE   BAD    47\n",
      "12  Women's Doubles                Du Jing     CHN           GOLD   BAD    47\n",
      "13  Women's Doubles                Yu Yang     CHN           GOLD   BAD    47\n",
      "14  Women's Doubles           Lee KyungWon     KOR         SILVER   BAD    47\n",
      "15  Women's Doubles            Lee Hyojung     KOR         SILVER   BAD    47\n",
      "16  Women's Doubles            Zhang Yawen     CHN         BRONZE   BAD    47\n",
      "17  Women's Doubles               Wei Yili     CHN         BRONZE   BAD    47\n",
      "18    Mixed Doubles            Lee Yongdae     KOR           GOLD   BAD    47\n",
      "19    Mixed Doubles            Lee Hyojung     KOR           GOLD   BAD    47\n",
      "20    Mixed Doubles          Nova Widianto     INA         SILVER   BAD    47\n",
      "21    Mixed Doubles              Liliyana      INA         SILVER   BAD    47\n",
      "22    Mixed Doubles              He Hanbin     CHN         BRONZE   BAD    47\n",
      "23    Mixed Doubles               Yu Yang      CHN         BRONZE   BAD    47\n"
     ]
    }
   ],
   "source": [
    "import pandas\n",
    "import numpy\n",
    "\n",
    "col_name = []\n",
    "for child in raw_table('tr'): \n",
    "    if child.get('class', ['Null'])[0] == 'statHead': \n",
    "        for td in child.find_all('td'): \n",
    "            col_name.append(td.get_text())\n",
    "        break\n",
    "results_table = pandas.DataFrame(columns = col_name)\n",
    "\n",
    "sports_row_num = 0\n",
    "event_curr = ''\n",
    "\n",
    "for child in raw_table('tr'):\n",
    "    row_curr = []\n",
    "    if (child.get('class', ['Null'])[0] == 'cl1' or child.get('class', ['Null'])[0] == 'cl2'):\n",
    "        col_num = 1\n",
    "        for td in child.find_all('td'): \n",
    "            if col_num == 1:\n",
    "                if len(td.get_text()) > 0:\n",
    "                    event_curr = td.get_text()\n",
    "                row_curr.append(event_curr)\n",
    "            else:\n",
    "                row_curr.append(td.get_text())\n",
    "            col_num += 1\n",
    "    if len(row_curr) == len(col_name): \n",
    "        results_table.loc[sports_row_num] = row_curr\n",
    "        sports_row_num += 1\n",
    "        \n",
    "        \n",
    "results_table['Sport'] = 'BAD'\n",
    "results_table['Game'] = 47\n",
    "\n",
    "print results_table"
   ]
  },
  {
   "cell_type": "markdown",
   "metadata": {},
   "source": [
    "Great! This looks like the format we want the data to be in. Let's set it up to look at all the Olympic years and sports.\n",
    "\n",
    "I've made two reference CSVs. One for the Olypmic ID, year, and host. Then another for all the sports and the abbreviations."
   ]
  },
  {
   "cell_type": "code",
   "execution_count": 3,
   "metadata": {
    "collapsed": false
   },
   "outputs": [
    {
     "name": "stdout",
     "output_type": "stream",
     "text": [
      "43    ALP\n",
      "44    BIA\n",
      "45    BOB\n",
      "46    CUR\n",
      "47    FIG\n",
      "48    ICE\n",
      "49    LUG\n",
      "50    NOR\n",
      "51    SPE\n",
      "Name: sport_key, dtype: object\n"
     ]
    }
   ],
   "source": [
    "import csv\n",
    "\n",
    "olympics = pandas.read_csv('olympic_reference.csv')\n",
    "sports = pandas.read_csv('olympic_sport_reference.csv')\n",
    "        \n",
    "# We can loop over all the olympics\n",
    "# then filter down to the sports for that season (summer or winter)\n",
    "# and collect all the sports keys to loop over for each of our scraping requests\n",
    "print sports.sport_key[(sports.season == olympics.season[27])] # the '27' is the olympic loop index"
   ]
  },
  {
   "cell_type": "markdown",
   "metadata": {},
   "source": [
    "Alright, now that we can get the __g__ and __sp__ needed for our request out of the reference tables, our script will grab\n",
    "- All years\n",
    "- All sports\n",
    "- All events\n",
    "- All medals\n",
    "- All medal athletes\n",
    "\n",
    "That is pretty effective compared to manually copy and pasting this information off the site.\n",
    "\n",
    "Let's create the loop!"
   ]
  },
  {
   "cell_type": "code",
   "execution_count": 14,
   "metadata": {
    "collapsed": false
   },
   "outputs": [
    {
     "name": "stdout",
     "output_type": "stream",
     "text": [
      "   olympic_id sport_key      event            athlete country  result   medal\n",
      "0        30.0       SPE   500m Men    Ivar Ballangrud     NOR    43.4    GOLD\n",
      "1        30.0       SPE   500m Men         Georg Krog     NOR    43.5  SILVER\n",
      "2        30.0       SPE   500m Men     Leo Freisinger     USA    44.0  BRONZE\n",
      "3        30.0       SPE  1500m Men  Charles Mathiesen     NOR  2:19.2    GOLD\n",
      "4        30.0       SPE  1500m Men    Ivar Ballangrud     NOR  2:20.2  SILVER\n"
     ]
    }
   ],
   "source": [
    "olympic_results_headers = ['olympic_id', 'sport_key', 'event', 'athlete', 'country', 'result', 'medal']\n",
    "olympic_results_table = pandas.DataFrame(columns = olympic_results_headers)\n",
    "\n",
    "for i, sport in sports.iterrows():\n",
    "    curr_url = 'http://www.databaseolympics.com/games/gamessport.htm' \\\n",
    "                '?g=30' + \\\n",
    "                '&sp=' + str(sport.sport_key)\n",
    "        \n",
    "    raw_response_data = requests.get(curr_url)\n",
    "    soup_response_data = BeautifulSoup(raw_response_data.content)\n",
    "    raw_response_table = soup_response_data('table')[2]\n",
    "\n",
    "    sport_row_num = 0\n",
    "    curr_sport_event = ''\n",
    "    \n",
    "    if len(raw_response_table('tr')) > 1:\n",
    "        for child in raw_response_table('tr'):\n",
    "            curr_row = [olympics.olympic_id[29], sport.sport_key]\n",
    "            if (child.get('class', ['Null'])[0] == 'cl1' or child.get('class', ['Null'])[0] == 'cl2'):\n",
    "                col_num = 1\n",
    "                for td in child.find_all('td'): \n",
    "                    if col_num == 1:\n",
    "                        if len(td.get_text()) > 0:\n",
    "                            event_curr = td.get_text()\n",
    "                        curr_row.append(event_curr)\n",
    "                    else:\n",
    "                        curr_row.append(td.get_text())\n",
    "                    col_num += 1\n",
    "            if len(curr_row) == len(olympic_results_headers): \n",
    "                olympic_results_table.loc[sport_row_num] = curr_row\n",
    "                sport_row_num += 1\n",
    "        \n",
    "print olympic_results_table.head()"
   ]
  },
  {
   "cell_type": "code",
   "execution_count": 31,
   "metadata": {
    "collapsed": false
   },
   "outputs": [
    {
     "name": "stdout",
     "output_type": "stream",
     "text": [
      "   olympic_id sport_key             event            athlete country result  \\\n",
      "0        47.0       WRE  Greco-Roman 55kg      Nazyr Mankiev     RUS          \n",
      "1        47.0       WRE  Greco-Roman 55kg   Rovshan Bayramov     AZE          \n",
      "2        47.0       WRE  Greco-Roman 55kg       Roman Amoyan     ARM          \n",
      "3        47.0       WRE  Greco-Roman 55kg       Park EunChul     KOR          \n",
      "4        47.0       WRE  Greco-Roman 60kg  Islam-Beka Albiev     RUS          \n",
      "\n",
      "    medal  \n",
      "0    GOLD  \n",
      "1  SILVER  \n",
      "2  BRONZE  \n",
      "3  BRONZE  \n",
      "4    GOLD  \n"
     ]
    }
   ],
   "source": [
    "import io\n",
    "\n",
    "olympic_results_headers = ['olympic_id', 'sport_key', 'event', 'athlete', 'country', 'result', 'medal']\n",
    "olympic_results_table = pandas.DataFrame(columns = olympic_results_headers)\n",
    "\n",
    "olympic_csv = io.open('olympic-results.csv', 'a')\n",
    "\n",
    "for index, curr_olympic in olympics.iterrows():\n",
    "    curr_sports = sports[(sports.season == curr_olympic.season)]\n",
    "    for i, sport in curr_sports.iterrows():\n",
    "        curr_url = 'http://www.databaseolympics.com/games/gamessport.htm' \\\n",
    "                    '?g=' + str(curr_olympic.olympic_id) + \\\n",
    "                    '&sp=' + str(sport.sport_key)\n",
    "\n",
    "        raw_response_data = requests.get(curr_url)\n",
    "        soup_response_data = BeautifulSoup(raw_response_data.content)\n",
    "        raw_response_table = soup_response_data('table')[2]\n",
    "\n",
    "        sport_row_num = 0\n",
    "        curr_sport_event = ''\n",
    "\n",
    "        if len(raw_response_table('tr')) > 1:\n",
    "            for child in raw_response_table('tr'):\n",
    "                curr_row = [curr_olympic.olympic_id, sport.sport_key]\n",
    "                if (child.get('class', ['Null'])[0] == 'cl1' or child.get('class', ['Null'])[0] == 'cl2'):\n",
    "                    col_num = 1\n",
    "                    for td in child.find_all('td'): \n",
    "                        if col_num == 1:\n",
    "                            if len(td.get_text()) > 0:\n",
    "                                event_curr = td.get_text()\n",
    "                            curr_row.append(event_curr)\n",
    "                        else:\n",
    "                            curr_row.append(td.get_text())\n",
    "                        col_num += 1\n",
    "                if len(curr_row) == len(olympic_results_headers): \n",
    "                    olympic_results_table.loc[sport_row_num] = curr_row\n",
    "                    \n",
    "                    csv_row = [unicode(i) for i in curr_row]\n",
    "                    \n",
    "                    csv_string = ','.join(unicode(e) for e in csv_row) + '\\n'\n",
    "                    olympic_csv.write(csv_string)\n",
    "                    \n",
    "                    sport_row_num += 1\n",
    "                    \n",
    "olympic_csv.close()\n",
    "        \n",
    "print olympic_results_table.head()"
   ]
  }
 ],
 "metadata": {
  "anaconda-cloud": {},
  "kernelspec": {
   "display_name": "Python 2",
   "language": "python",
   "name": "python2"
  },
  "language_info": {
   "codemirror_mode": {
    "name": "ipython",
    "version": 2
   },
   "file_extension": ".py",
   "mimetype": "text/x-python",
   "name": "python",
   "nbconvert_exporter": "python",
   "pygments_lexer": "ipython2",
   "version": "2.7.11"
  }
 },
 "nbformat": 4,
 "nbformat_minor": 0
}
