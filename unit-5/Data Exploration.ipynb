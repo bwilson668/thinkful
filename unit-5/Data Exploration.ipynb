{
 "cells": [
  {
   "cell_type": "markdown",
   "metadata": {},
   "source": [
    "# Olympic Webscraping and Data Exploration\n",
    "#### Ben Wilson\n",
    "\n",
    "I'll be attempting to scrape the [Database Olympics](www.databaseolympics.com) site to speed up my data collection process. Once that data is cleaned, I'll load it into a local SQLite DB. From there we can explore a few basic metrics and make our first simple model."
   ]
  },
  {
   "cell_type": "code",
   "execution_count": 1,
   "metadata": {
    "collapsed": false
   },
   "outputs": [
    {
     "name": "stderr",
     "output_type": "stream",
     "text": [
      "/Applications/anaconda/lib/python2.7/site-packages/bs4/__init__.py:166: UserWarning: No parser was explicitly specified, so I'm using the best available HTML parser for this system (\"lxml\"). This usually isn't a problem, but if you run this code on another system, or in a different virtual environment, it may use a different parser and behave differently.\n",
      "\n",
      "To get rid of this warning, change this:\n",
      "\n",
      " BeautifulSoup([your markup])\n",
      "\n",
      "to this:\n",
      "\n",
      " BeautifulSoup([your markup], \"lxml\")\n",
      "\n",
      "  markup_type=markup_type))\n"
     ]
    }
   ],
   "source": [
    "from bs4 import BeautifulSoup\n",
    "import requests\n",
    "\n",
    "url = 'http://www.databaseolympics.com/games/gamessport.htm?g=47&sp=BAD'\n",
    "raw_data = requests.get(url)\n",
    "soup_data = BeautifulSoup(raw_data.content)\n",
    "raw_table = soup_data('table')[2]"
   ]
  },
  {
   "cell_type": "markdown",
   "metadata": {},
   "source": [
    "Great! We have the table we want.\n",
    "\n",
    "I should also point out that the url had two HTTP query variables\n",
    "- __g=47__: the G stands for the game, which Olympics it is.\n",
    "- __sp=BAD__: SP is Sport. Then you have to give a sport abbreviation. In this case it was BAD for Badmitton.\n",
    "\n",
    "Now let's get that table parsed into a dataframe"
   ]
  },
  {
   "cell_type": "code",
   "execution_count": 2,
   "metadata": {
    "collapsed": false
   },
   "outputs": [
    {
     "name": "stdout",
     "output_type": "stream",
     "text": [
      "              Event                Athlete Country Result   Medal Sport  Game\n",
      "0     Men's Singles                Lin Dan     CHN           GOLD   BAD    47\n",
      "1     Men's Singles           Lee ChongWei     MAS         SILVER   BAD    47\n",
      "2     Men's Singles               Chen Jin     CHN         BRONZE   BAD    47\n",
      "3     Men's Doubles            Markis Kido     INA           GOLD   BAD    47\n",
      "4     Men's Doubles        Hendra Setiawan     INA           GOLD   BAD    47\n",
      "5     Men's Doubles             Fu Haifeng     CHN         SILVER   BAD    47\n",
      "6     Men's Doubles                Cai Yun     CHN         SILVER   BAD    47\n",
      "7     Men's Doubles             Lee Jaejin     KOR         BRONZE   BAD    47\n",
      "8     Men's Doubles            Hwang Jiman     KOR         BRONZE   BAD    47\n",
      "9   Women's Singles             Zhang Ning     CHN           GOLD   BAD    47\n",
      "10  Women's Singles           Xie Xingfang     CHN         SILVER   BAD    47\n",
      "11  Women's Singles  Maria KristinYulianti     INA         BRONZE   BAD    47\n",
      "12  Women's Doubles                Du Jing     CHN           GOLD   BAD    47\n",
      "13  Women's Doubles                Yu Yang     CHN           GOLD   BAD    47\n",
      "14  Women's Doubles           Lee KyungWon     KOR         SILVER   BAD    47\n",
      "15  Women's Doubles            Lee Hyojung     KOR         SILVER   BAD    47\n",
      "16  Women's Doubles            Zhang Yawen     CHN         BRONZE   BAD    47\n",
      "17  Women's Doubles               Wei Yili     CHN         BRONZE   BAD    47\n",
      "18    Mixed Doubles            Lee Yongdae     KOR           GOLD   BAD    47\n",
      "19    Mixed Doubles            Lee Hyojung     KOR           GOLD   BAD    47\n",
      "20    Mixed Doubles          Nova Widianto     INA         SILVER   BAD    47\n",
      "21    Mixed Doubles              Liliyana      INA         SILVER   BAD    47\n",
      "22    Mixed Doubles              He Hanbin     CHN         BRONZE   BAD    47\n",
      "23    Mixed Doubles               Yu Yang      CHN         BRONZE   BAD    47\n"
     ]
    }
   ],
   "source": [
    "import pandas\n",
    "import numpy\n",
    "\n",
    "col_name = []\n",
    "for child in raw_table('tr'): \n",
    "    if child.get('class', ['Null'])[0] == 'statHead': \n",
    "        for td in child.find_all('td'): \n",
    "            col_name.append(td.get_text())\n",
    "        break\n",
    "results_table = pandas.DataFrame(columns = col_name)\n",
    "\n",
    "sports_row_num = 0\n",
    "event_curr = ''\n",
    "\n",
    "for child in raw_table('tr'):\n",
    "    row_curr = []\n",
    "    if (child.get('class', ['Null'])[0] == 'cl1' or child.get('class', ['Null'])[0] == 'cl2'):\n",
    "        col_num = 1\n",
    "        for td in child.find_all('td'): \n",
    "            if col_num == 1:\n",
    "                if len(td.get_text()) > 0:\n",
    "                    event_curr = td.get_text()\n",
    "                row_curr.append(event_curr)\n",
    "            else:\n",
    "                row_curr.append(td.get_text())\n",
    "            col_num += 1\n",
    "    if len(row_curr) == len(col_name): \n",
    "        results_table.loc[sports_row_num] = row_curr\n",
    "        sports_row_num += 1\n",
    "        \n",
    "        \n",
    "results_table['Sport'] = 'BAD'\n",
    "results_table['Game'] = 47\n",
    "\n",
    "print results_table"
   ]
  },
  {
   "cell_type": "markdown",
   "metadata": {},
   "source": [
    "Great! This looks like the format we want the data to be in. Let's set it up to look at all the Olympic years and sports.\n",
    "\n",
    "I've made two reference CSVs. One for the Olypmic ID, year, and host. Then another for all the sports and the abbreviations."
   ]
  },
  {
   "cell_type": "code",
   "execution_count": 3,
   "metadata": {
    "collapsed": false
   },
   "outputs": [
    {
     "name": "stdout",
     "output_type": "stream",
     "text": [
      "43    ALP\n",
      "44    BIA\n",
      "45    BOB\n",
      "46    CUR\n",
      "47    FIG\n",
      "48    ICE\n",
      "49    LUG\n",
      "50    NOR\n",
      "51    SPE\n",
      "Name: sport_key, dtype: object\n"
     ]
    }
   ],
   "source": [
    "import csv\n",
    "\n",
    "olympics = pandas.read_csv('olympic_reference.csv')\n",
    "sports = pandas.read_csv('olympic_sport_reference.csv')\n",
    "        \n",
    "# We can loop over all the olympics\n",
    "# then filter down to the sports for that season (summer or winter)\n",
    "# and collect all the sports keys to loop over for each of our scraping requests\n",
    "print sports.sport_key[(sports.season == olympics.season[27])] # the '27' is the olympic loop index"
   ]
  },
  {
   "cell_type": "markdown",
   "metadata": {},
   "source": [
    "Alright, now that we can get the __g__ and __sp__ needed for our request out of the reference tables, our script will grab\n",
    "- All years\n",
    "- All sports\n",
    "- All events\n",
    "- All medals\n",
    "- All medal athletes\n",
    "\n",
    "That is pretty effective compared to manually copy and pasting this information off the site.\n",
    "\n",
    "Let's create the loop!"
   ]
  },
  {
   "cell_type": "code",
   "execution_count": 4,
   "metadata": {
    "collapsed": false
   },
   "outputs": [
    {
     "ename": "NameError",
     "evalue": "name 'curr_olympic' is not defined",
     "output_type": "error",
     "traceback": [
      "\u001b[0;31m---------------------------------------------------------------------------\u001b[0m",
      "\u001b[0;31mNameError\u001b[0m                                 Traceback (most recent call last)",
      "\u001b[0;32m<ipython-input-4-f9e135af088f>\u001b[0m in \u001b[0;36m<module>\u001b[0;34m()\u001b[0m\n\u001b[1;32m     18\u001b[0m \u001b[0;34m\u001b[0m\u001b[0m\n\u001b[1;32m     19\u001b[0m     \u001b[0;32mfor\u001b[0m \u001b[0mchild\u001b[0m \u001b[0;32min\u001b[0m \u001b[0mraw_table\u001b[0m\u001b[0;34m(\u001b[0m\u001b[0;34m'tr'\u001b[0m\u001b[0;34m)\u001b[0m\u001b[0;34m:\u001b[0m\u001b[0;34m\u001b[0m\u001b[0m\n\u001b[0;32m---> 20\u001b[0;31m         \u001b[0mrow_curr\u001b[0m \u001b[0;34m=\u001b[0m \u001b[0;34m[\u001b[0m\u001b[0mcurr_olympic\u001b[0m\u001b[0;34m.\u001b[0m\u001b[0molympic_id\u001b[0m\u001b[0;34m,\u001b[0m \u001b[0msport\u001b[0m\u001b[0;34m.\u001b[0m\u001b[0msport_key\u001b[0m\u001b[0;34m]\u001b[0m\u001b[0;34m\u001b[0m\u001b[0m\n\u001b[0m\u001b[1;32m     21\u001b[0m         \u001b[0;32mif\u001b[0m \u001b[0;34m(\u001b[0m\u001b[0mchild\u001b[0m\u001b[0;34m.\u001b[0m\u001b[0mget\u001b[0m\u001b[0;34m(\u001b[0m\u001b[0;34m'class'\u001b[0m\u001b[0;34m,\u001b[0m \u001b[0;34m[\u001b[0m\u001b[0;34m'Null'\u001b[0m\u001b[0;34m]\u001b[0m\u001b[0;34m)\u001b[0m\u001b[0;34m[\u001b[0m\u001b[0;36m0\u001b[0m\u001b[0;34m]\u001b[0m \u001b[0;34m==\u001b[0m \u001b[0;34m'cl1'\u001b[0m \u001b[0;32mor\u001b[0m \u001b[0mchild\u001b[0m\u001b[0;34m.\u001b[0m\u001b[0mget\u001b[0m\u001b[0;34m(\u001b[0m\u001b[0;34m'class'\u001b[0m\u001b[0;34m,\u001b[0m \u001b[0;34m[\u001b[0m\u001b[0;34m'Null'\u001b[0m\u001b[0;34m]\u001b[0m\u001b[0;34m)\u001b[0m\u001b[0;34m[\u001b[0m\u001b[0;36m0\u001b[0m\u001b[0;34m]\u001b[0m \u001b[0;34m==\u001b[0m \u001b[0;34m'cl2'\u001b[0m\u001b[0;34m)\u001b[0m\u001b[0;34m:\u001b[0m\u001b[0;34m\u001b[0m\u001b[0m\n\u001b[1;32m     22\u001b[0m             \u001b[0mcol_num\u001b[0m \u001b[0;34m=\u001b[0m \u001b[0;36m1\u001b[0m\u001b[0;34m\u001b[0m\u001b[0m\n",
      "\u001b[0;31mNameError\u001b[0m: name 'curr_olympic' is not defined"
     ]
    }
   ],
   "source": [
    "results_headers = ['olympic_id', 'sport_key', 'event', 'athlete', 'country', 'result', 'medal']\n",
    "results_table = pandas.DataFrame(columns = results_headers)\n",
    "\n",
    "# for index, curr_olympic in olympics.iterrows():\n",
    "#     curr_sports = sports[(sports.season == curr_olympic.season)]\n",
    "for i, sport in sports.iterrows():\n",
    "    url = url = 'http://www.databaseolympics.com/games/gamessport.htm' \\\n",
    "                '?g=30' + \\\n",
    "                '&sp=' + str(sport.sport_key)\n",
    "#         url = url = 'http://www.databaseolympics.com/games/gamessport.htm' \\\n",
    "#                     '?g=' + str(curr_olympic.olympic_id) + \\\n",
    "#                     '&sp=' + str(sport.sport_key)\n",
    "        \n",
    "    raw_data = requests.get(url)\n",
    "    soup_data = BeautifulSoup(raw_data.content)\n",
    "    raw_table = soup_data('table')[2]\n",
    "\n",
    "    sports_row_num = 0\n",
    "    event_curr = ''\n",
    "\n",
    "    for child in raw_table('tr'):\n",
    "        row_curr = [curr_olympic.olympic_id, sport.sport_key]\n",
    "        if (child.get('class', ['Null'])[0] == 'cl1' or child.get('class', ['Null'])[0] == 'cl2'):\n",
    "            col_num = 1\n",
    "            for td in child.find_all('td'): \n",
    "                if col_num == 1:\n",
    "                    if len(td.get_text()) > 0:\n",
    "                        event_curr = td.get_text()\n",
    "                    row_curr.append(event_curr)\n",
    "                else:\n",
    "                    row_curr.append(td.get_text())\n",
    "                col_num += 1\n",
    "        if len(row_curr) == len(col_name): \n",
    "            results_table.loc[sports_row_num] = row_curr\n",
    "            sports_row_num += 1\n",
    "                \n",
    "print results_table.head()"
   ]
  },
  {
   "cell_type": "code",
   "execution_count": 14,
   "metadata": {
    "collapsed": false
   },
   "outputs": [
    {
     "name": "stdout",
     "output_type": "stream",
     "text": [
      "   olympic_id sport_key      event            athlete country  result   medal\n",
      "0        30.0       SPE   500m Men    Ivar Ballangrud     NOR    43.4    GOLD\n",
      "1        30.0       SPE   500m Men         Georg Krog     NOR    43.5  SILVER\n",
      "2        30.0       SPE   500m Men     Leo Freisinger     USA    44.0  BRONZE\n",
      "3        30.0       SPE  1500m Men  Charles Mathiesen     NOR  2:19.2    GOLD\n",
      "4        30.0       SPE  1500m Men    Ivar Ballangrud     NOR  2:20.2  SILVER\n"
     ]
    }
   ],
   "source": [
    "olympic_results_headers = ['olympic_id', 'sport_key', 'event', 'athlete', 'country', 'result', 'medal']\n",
    "olympic_results_table = pandas.DataFrame(columns = olympic_results_headers)\n",
    "\n",
    "for i, sport in sports.iterrows():\n",
    "    curr_url = 'http://www.databaseolympics.com/games/gamessport.htm' \\\n",
    "                '?g=30' + \\\n",
    "                '&sp=' + str(sport.sport_key)\n",
    "        \n",
    "    raw_response_data = requests.get(curr_url)\n",
    "    soup_response_data = BeautifulSoup(raw_response_data.content)\n",
    "    raw_response_table = soup_response_data('table')[2]\n",
    "\n",
    "    sport_row_num = 0\n",
    "    curr_sport_event = ''\n",
    "    \n",
    "    if len(raw_response_table('tr')) > 1:\n",
    "        for child in raw_response_table('tr'):\n",
    "            curr_row = [olympics.olympic_id[29], sport.sport_key]\n",
    "            if (child.get('class', ['Null'])[0] == 'cl1' or child.get('class', ['Null'])[0] == 'cl2'):\n",
    "                col_num = 1\n",
    "                for td in child.find_all('td'): \n",
    "                    if col_num == 1:\n",
    "                        if len(td.get_text()) > 0:\n",
    "                            event_curr = td.get_text()\n",
    "                        curr_row.append(event_curr)\n",
    "                    else:\n",
    "                        curr_row.append(td.get_text())\n",
    "                    col_num += 1\n",
    "            if len(curr_row) == len(olympic_results_headers): \n",
    "                olympic_results_table.loc[sport_row_num] = curr_row\n",
    "                sport_row_num += 1\n",
    "        \n",
    "print olympic_results_table.head()"
   ]
  },
  {
   "cell_type": "code",
   "execution_count": 31,
   "metadata": {
    "collapsed": false
   },
   "outputs": [
    {
     "name": "stdout",
     "output_type": "stream",
     "text": [
      "   olympic_id sport_key             event            athlete country result  \\\n",
      "0        47.0       WRE  Greco-Roman 55kg      Nazyr Mankiev     RUS          \n",
      "1        47.0       WRE  Greco-Roman 55kg   Rovshan Bayramov     AZE          \n",
      "2        47.0       WRE  Greco-Roman 55kg       Roman Amoyan     ARM          \n",
      "3        47.0       WRE  Greco-Roman 55kg       Park EunChul     KOR          \n",
      "4        47.0       WRE  Greco-Roman 60kg  Islam-Beka Albiev     RUS          \n",
      "\n",
      "    medal  \n",
      "0    GOLD  \n",
      "1  SILVER  \n",
      "2  BRONZE  \n",
      "3  BRONZE  \n",
      "4    GOLD  \n"
     ]
    }
   ],
   "source": [
    "import io\n",
    "\n",
    "olympic_results_headers = ['olympic_id', 'sport_key', 'event', 'athlete', 'country', 'result', 'medal']\n",
    "olympic_results_table = pandas.DataFrame(columns = olympic_results_headers)\n",
    "\n",
    "olympic_csv = io.open('olympic-results.csv', 'a')\n",
    "\n",
    "for index, curr_olympic in olympics.iterrows():\n",
    "    curr_sports = sports[(sports.season == curr_olympic.season)]\n",
    "    for i, sport in curr_sports.iterrows():\n",
    "        curr_url = 'http://www.databaseolympics.com/games/gamessport.htm' \\\n",
    "                    '?g=' + str(curr_olympic.olympic_id) + \\\n",
    "                    '&sp=' + str(sport.sport_key)\n",
    "\n",
    "        raw_response_data = requests.get(curr_url)\n",
    "        soup_response_data = BeautifulSoup(raw_response_data.content)\n",
    "        raw_response_table = soup_response_data('table')[2]\n",
    "\n",
    "        sport_row_num = 0\n",
    "        curr_sport_event = ''\n",
    "\n",
    "        if len(raw_response_table('tr')) > 1:\n",
    "            for child in raw_response_table('tr'):\n",
    "                curr_row = [curr_olympic.olympic_id, sport.sport_key]\n",
    "                if (child.get('class', ['Null'])[0] == 'cl1' or child.get('class', ['Null'])[0] == 'cl2'):\n",
    "                    col_num = 1\n",
    "                    for td in child.find_all('td'): \n",
    "                        if col_num == 1:\n",
    "                            if len(td.get_text()) > 0:\n",
    "                                event_curr = td.get_text()\n",
    "                            curr_row.append(event_curr)\n",
    "                        else:\n",
    "                            curr_row.append(td.get_text())\n",
    "                        col_num += 1\n",
    "                if len(curr_row) == len(olympic_results_headers): \n",
    "                    olympic_results_table.loc[sport_row_num] = curr_row\n",
    "                    \n",
    "                    csv_row = [unicode(i) for i in curr_row]\n",
    "                    \n",
    "                    csv_string = ','.join(unicode(e) for e in csv_row) + '\\n'\n",
    "                    olympic_csv.write(csv_string)\n",
    "                    \n",
    "                    sport_row_num += 1\n",
    "                    \n",
    "olympic_csv.close()\n",
    "        \n",
    "print olympic_results_table.head()"
   ]
  },
  {
   "cell_type": "code",
   "execution_count": 17,
   "metadata": {
    "collapsed": false
   },
   "outputs": [
    {
     "name": "stdout",
     "output_type": "stream",
     "text": [
      "     olympic_id sport_key                         event  \\\n",
      "0          47.0       WRE              Greco-Roman 55kg   \n",
      "1          47.0       WRE              Greco-Roman 55kg   \n",
      "2          47.0       WRE              Greco-Roman 55kg   \n",
      "3          47.0       WRE              Greco-Roman 55kg   \n",
      "4          47.0       WRE              Greco-Roman 60kg   \n",
      "5          47.0       WRE              Greco-Roman 60kg   \n",
      "6          47.0       WRE              Greco-Roman 60kg   \n",
      "7          47.0       WRE              Greco-Roman 60kg   \n",
      "8          47.0       WRE              Greco-Roman 66kg   \n",
      "9          47.0       WRE              Greco-Roman 66kg   \n",
      "10         47.0       WRE              Greco-Roman 66kg   \n",
      "11         47.0       WRE              Greco-Roman 66kg   \n",
      "12         47.0       WRE              Greco-Roman 74kg   \n",
      "13         47.0       WRE              Greco-Roman 74kg   \n",
      "14         47.0       WRE              Greco-Roman 74kg   \n",
      "15         47.0       WRE              Greco-Roman 74kg   \n",
      "16         47.0       WRE              Greco-Roman 84kg   \n",
      "17         47.0       WRE              Greco-Roman 84kg   \n",
      "18         47.0       WRE              Greco-Roman 84kg   \n",
      "19         47.0       WRE              Greco-Roman 96kg   \n",
      "20         47.0       WRE              Greco-Roman 96kg   \n",
      "21         47.0       WRE              Greco-Roman 96kg   \n",
      "22         47.0       WRE              Greco-Roman 96kg   \n",
      "23         47.0       WRE             Greco-Roman 120kg   \n",
      "24         47.0       WRE             Greco-Roman 120kg   \n",
      "25         47.0       WRE             Greco-Roman 120kg   \n",
      "26         47.0       WRE             Greco-Roman 120kg   \n",
      "27         47.0       WRE            Freestyle 55kg Men   \n",
      "28         47.0       WRE            Freestyle 55kg Men   \n",
      "29         47.0       WRE            Freestyle 55kg Men   \n",
      "..          ...       ...                           ...   \n",
      "170        47.0       ATH                   5000m Women   \n",
      "171        47.0       ATH                   5000m Women   \n",
      "172        47.0       ATH                   5000m Women   \n",
      "173        47.0       ATH             Triple Jump Women   \n",
      "174        47.0       ATH             Triple Jump Women   \n",
      "175        47.0       ATH             Triple Jump Women   \n",
      "176        47.0       ATH              Pole Vault Women   \n",
      "177        47.0       ATH              Pole Vault Women   \n",
      "178        47.0       ATH              Pole Vault Women   \n",
      "179        47.0       ATH               20km Walk Women   \n",
      "180        47.0       ATH               20km Walk Women   \n",
      "181        47.0       ATH               20km Walk Women   \n",
      "182        47.0       ATH            Hammer Throw Women   \n",
      "183        47.0       ATH            Hammer Throw Women   \n",
      "184        47.0       ATH            Hammer Throw Women   \n",
      "185        47.0       ATH      3000m Steeplechase Women   \n",
      "186        47.0       ATH      3000m Steeplechase Women   \n",
      "187        47.0       ATH      3000m Steeplechase Women   \n",
      "188        47.0       SWI  4x200m Freestyle Relay Women   \n",
      "189        47.0       SWI  4x200m Freestyle Relay Women   \n",
      "190        47.0       SWI  4x200m Freestyle Relay Women   \n",
      "191        47.0       SWI  4x200m Freestyle Relay Women   \n",
      "192        47.0       SWI  4x200m Freestyle Relay Women   \n",
      "193        47.0       SWI  4x200m Freestyle Relay Women   \n",
      "194        47.0       SWI             10km Marathon Men   \n",
      "195        47.0       SWI             10km Marathon Men   \n",
      "196        47.0       SWI             10km Marathon Men   \n",
      "197        47.0       SWI           10km Marathon Women   \n",
      "198        47.0       SWI           10km Marathon Women   \n",
      "199        47.0       SWI           10km Marathon Women   \n",
      "\n",
      "                     athlete country     result   medal  \n",
      "0              Nazyr Mankiev     RUS               GOLD  \n",
      "1           Rovshan Bayramov     AZE             SILVER  \n",
      "2               Roman Amoyan     ARM             BRONZE  \n",
      "3               Park EunChul     KOR             BRONZE  \n",
      "4          Islam-Beka Albiev     RUS               GOLD  \n",
      "5            Vitaliy Rahimov     AZE             SILVER  \n",
      "6       Nurbakyt Tengizbayev     KAZ             BRONZE  \n",
      "7          Ruslan Tiumenbaev     KGZ             BRONZE  \n",
      "8              Steeve Guenot     FRA               GOLD  \n",
      "9          Kanatbek Begaliev     KGZ             SILVER  \n",
      "10           Armen Vardanyan     UKR             BRONZE  \n",
      "11         Mikhail Siamionau     BLR             BRONZE  \n",
      "12        Manuchar Kvirkelia     GEO               GOLD  \n",
      "13           Chang Yongxiang     CHN             SILVER  \n",
      "14         Christophe Guenot     FRA             BRONZE  \n",
      "15            Yavor Yanakiev     BUL             BRONZE  \n",
      "16           Andrea Minguzzi     ITA               GOLD  \n",
      "17              Zoltan Fodor     HUN             SILVER  \n",
      "18              Nazmi Avluca     TUR             BRONZE  \n",
      "19         Aslanbek Khushtov     RUS               GOLD  \n",
      "20             Mirko Englich     GER             SILVER  \n",
      "21            Asset Mambetov     KAZ             BRONZE  \n",
      "22              Adam Wheeler     USA             BRONZE  \n",
      "23              Mijain Lopez     CUB               GOLD  \n",
      "24             Khasan Baroev     RUS             SILVER  \n",
      "25            Yuri Patrikeev     ARM             BRONZE  \n",
      "26       Mindaugas Mizgaitis     LTU             BRONZE  \n",
      "27              Henry Cejudo     USA               GOLD  \n",
      "28        Tomohiro Matsunaga     JPN             SILVER  \n",
      "29          Radoslav Velikov     BUL             BRONZE  \n",
      "..                       ...     ...        ...     ...  \n",
      "170          Tirunesh Dibaba     ETH   15:41.40    GOLD  \n",
      "171        Elvan Abeylegesse     TUR   15:42.74  SILVER  \n",
      "172            Meseret Defar     ETH   15:44.12  BRONZE  \n",
      "173   Francoise Mbango Etone     CMR      15.39    GOLD  \n",
      "174         Tatyana Lebedeva     RUS      15.32  SILVER  \n",
      "175        Hrysopiyi Devetzi     GRE      15.23  BRONZE  \n",
      "176        Yelena Isinbayeva     RUS       5.05    GOLD  \n",
      "177      Jennifer Stuczynski     USA       4.80  SILVER  \n",
      "178       Svetlana Feofanova     RUS       4.75  BRONZE  \n",
      "179           Olga Kaniskina     RUS    1:26:31    GOLD  \n",
      "180          Kjersti Platzer     NOR    1:27:07  SILVER  \n",
      "181            Elisa Rigaudo     ITA    1:27:12  BRONZE  \n",
      "182          Aksana Miankova     BLR      76.34    GOLD  \n",
      "183             Yipsi Moreno     CUB      75.20  SILVER  \n",
      "184             Zhang Wenxiu     CHN      74.32  BRONZE  \n",
      "185  Gulnara GalkinaSamitova     RUS    8:58.81    GOLD  \n",
      "186          Eunice Jepkorir     KEN    9:07.41  SILVER  \n",
      "187        Ekaterina Volkova     RUS    9:07.64  BRONZE  \n",
      "188               Julia Smit     USA    7:46.33  BRONZE  \n",
      "189          Allison Schmitt     USA    7:46.33  BRONZE  \n",
      "190       Christine Marshall     USA    7:46.33  BRONZE  \n",
      "191               Katie Hoff     USA    7:46.33  BRONZE  \n",
      "192         Caroline Burckle     USA    7:46.33  BRONZE  \n",
      "193         Natalie Coughlin     USA    7:46.33  BRONZE  \n",
      "194  Maartin van der Weijden     NED  1:51:51.6    GOLD  \n",
      "195             David Davies     GBR  1:51:53.6  SILVER  \n",
      "196              Thomas Lurz     GER  1:51:53.6  BRONZE  \n",
      "197          Larisa Ilchenko     RUS  1:59:27.7    GOLD  \n",
      "198          Keri-Anne Payne     GBR  1:59:29.2  SILVER  \n",
      "199         Cassandra Patten     GBR  1:59:31.0  BRONZE  \n",
      "\n",
      "[200 rows x 7 columns]\n"
     ]
    }
   ],
   "source": [
    "print olympic_results_table"
   ]
  }
 ],
 "metadata": {
  "anaconda-cloud": {},
  "kernelspec": {
   "display_name": "Python 2",
   "language": "python",
   "name": "python2"
  },
  "language_info": {
   "codemirror_mode": {
    "name": "ipython",
    "version": 2
   },
   "file_extension": ".py",
   "mimetype": "text/x-python",
   "name": "python",
   "nbconvert_exporter": "python",
   "pygments_lexer": "ipython2",
   "version": "2.7.11"
  }
 },
 "nbformat": 4,
 "nbformat_minor": 0
}
